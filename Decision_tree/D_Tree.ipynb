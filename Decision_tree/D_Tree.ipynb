{
 "cells": [
  {
   "cell_type": "code",
   "execution_count": 124,
   "id": "86789fea",
   "metadata": {},
   "outputs": [],
   "source": [
    "# Python ≥3.5 is required\n",
    "import sys\n",
    "assert sys.version_info >= (3, 5)\n",
    "\n",
    "# Scikit-Learn ≥0.20 is required\n",
    "import sklearn\n",
    "assert sklearn.__version__ >= \"0.20\"\n",
    "\n",
    "# Common imports\n",
    "import numpy as np\n",
    "import os\n",
    "\n",
    "#importo libreria panda per leggere ed elaborare csv\n",
    "import pandas as pd\n",
    "\n",
    "# to make this notebook's output stable across runs\n",
    "np.random.seed(42)\n",
    "\n",
    "# To plot pretty figures\n",
    "%matplotlib inline\n",
    "import matplotlib as mpl\n",
    "import matplotlib.pyplot as plt\n",
    "mpl.rc('axes', labelsize=14)\n",
    "mpl.rc('xtick', labelsize=12)\n",
    "mpl.rc('ytick', labelsize=12)\n",
    "\n",
    "# Where to save the figures\n",
    "PROJECT_ROOT_DIR = \".\"\n",
    "CHAPTER_ID = \"decision_trees\"\n",
    "IMAGES_PATH = os.path.join(PROJECT_ROOT_DIR, \"images\", CHAPTER_ID)\n",
    "os.makedirs(IMAGES_PATH, exist_ok=True)\n",
    "\n",
    "def save_fig(fig_id, tight_layout=True, fig_extension=\"png\", resolution=300):\n",
    "    path = os.path.join(IMAGES_PATH, fig_id + \".\" + fig_extension)\n",
    "    print(\"Saving figure\", fig_id)\n",
    "    if tight_layout:\n",
    "        plt.tight_layout()\n",
    "    plt.savefig(path, format=fig_extension, dpi=resolution)\n",
    "\n",
    "\n"
   ]
  },
  {
   "cell_type": "code",
   "execution_count": 125,
   "id": "3ff2e821",
   "metadata": {},
   "outputs": [],
   "source": [
    "data=pd.read_csv('/Users/ragno/Documents/Progetti/Mldm/ProgettoMLDM/Dataset/Loan_Default.csv')\n"
   ]
  },
  {
   "cell_type": "code",
   "execution_count": 126,
   "id": "a9623a56",
   "metadata": {},
   "outputs": [],
   "source": [
    "#elimino dati poco significanti\n",
    "\n",
    "cols=['ID','year','Interest_rate_spread','rate_of_interest','Upfront_charges','Gender','dtir1']\n",
    "data=data.drop(cols,axis=1)\n",
    "\n",
    "\n"
   ]
  },
  {
   "cell_type": "code",
   "execution_count": 127,
   "id": "772c96b0",
   "metadata": {
    "scrolled": true
   },
   "outputs": [
    {
     "data": {
      "text/plain": [
       "0    112031\n",
       "1     36639\n",
       "Name: Status, dtype: int64"
      ]
     },
     "execution_count": 127,
     "metadata": {},
     "output_type": "execute_result"
    }
   ],
   "source": [
    "data['Status'].value_counts()"
   ]
  },
  {
   "cell_type": "code",
   "execution_count": 128,
   "id": "a06a63b0",
   "metadata": {},
   "outputs": [],
   "source": [
    "from sklearn.preprocessing import OrdinalEncoder\n",
    "from sklearn.impute import SimpleImputer\n",
    "\n",
    "\n",
    "#converto in valori numerici\n",
    "colonne=['loan_limit','loan_type','approv_in_adv','loan_purpose','Credit_Worthiness','business_or_commercial','occupancy_type','credit_type','co-applicant_credit_type','submission_of_application','Region','Neg_ammortization','interest_only','lump_sum_payment','age','open_credit','construction_type','Secured_by','total_units','Security_Type']\n",
    "imputer = SimpleImputer(strategy='most_frequent') \n",
    "\n",
    "data[colonne]=imputer.fit_transform(data[colonne])\n",
    "\n",
    "numerical=['term','income','submission_of_application','property_value','construction_type','Secured_by','total_units','Security_Type','LTV']\n",
    "\n",
    "imputer = SimpleImputer(strategy='most_frequent') \n",
    "data[numerical]=imputer.fit_transform(data[numerical])\n",
    "\n",
    "encoder = OrdinalEncoder(dtype=np.int16)\n",
    "data[colonne] = encoder.fit_transform(data[colonne])\n",
    "\n",
    "\n",
    "\n"
   ]
  },
  {
   "cell_type": "code",
   "execution_count": 129,
   "id": "6a9fff5c",
   "metadata": {},
   "outputs": [
    {
     "data": {
      "text/plain": [
       "loan_limit                   0\n",
       "approv_in_adv                0\n",
       "loan_type                    0\n",
       "loan_purpose                 0\n",
       "Credit_Worthiness            0\n",
       "open_credit                  0\n",
       "business_or_commercial       0\n",
       "loan_amount                  0\n",
       "term                         0\n",
       "Neg_ammortization            0\n",
       "interest_only                0\n",
       "lump_sum_payment             0\n",
       "property_value               0\n",
       "construction_type            0\n",
       "occupancy_type               0\n",
       "Secured_by                   0\n",
       "total_units                  0\n",
       "income                       0\n",
       "credit_type                  0\n",
       "Credit_Score                 0\n",
       "co-applicant_credit_type     0\n",
       "age                          0\n",
       "submission_of_application    0\n",
       "LTV                          0\n",
       "Region                       0\n",
       "Security_Type                0\n",
       "Status                       0\n",
       "dtype: int64"
      ]
     },
     "execution_count": 129,
     "metadata": {},
     "output_type": "execute_result"
    }
   ],
   "source": [
    "pd.set_option('display.max_columns', None)\n",
    "data.isna().sum()"
   ]
  },
  {
   "cell_type": "code",
   "execution_count": 130,
   "id": "4806eab6",
   "metadata": {},
   "outputs": [
    {
     "data": {
      "text/plain": [
       "0    112031\n",
       "1     36639\n",
       "Name: Status, dtype: int64"
      ]
     },
     "execution_count": 130,
     "metadata": {},
     "output_type": "execute_result"
    }
   ],
   "source": [
    "data['Status'].value_counts()"
   ]
  },
  {
   "cell_type": "code",
   "execution_count": 131,
   "id": "0fd0aa2c",
   "metadata": {},
   "outputs": [],
   "source": [
    "from sklearn.model_selection import train_test_split\n"
   ]
  },
  {
   "cell_type": "code",
   "execution_count": 132,
   "id": "acb701b2",
   "metadata": {
    "scrolled": true
   },
   "outputs": [
    {
     "data": {
      "text/plain": [
       "0.8704513351718571"
      ]
     },
     "execution_count": 132,
     "metadata": {},
     "output_type": "execute_result"
    }
   ],
   "source": [
    "from sklearn.tree import DecisionTreeClassifier\n",
    "\n",
    "X=data.drop('Status',axis=1)\n",
    "y=data['Status']\n",
    "\n",
    "x_train, x_test, y_train, y_test = train_test_split(X, y, train_size=0.8)\n",
    "\n",
    "\n",
    "\n",
    "tree_clf = DecisionTreeClassifier(max_depth=6, random_state=42)\n",
    "tree_clf.fit(x_train, y_train)\n",
    "\n",
    "tree_clf.score(x_test, y_test)"
   ]
  },
  {
   "cell_type": "code",
   "execution_count": 133,
   "id": "f14120e7",
   "metadata": {},
   "outputs": [
    {
     "data": {
      "text/plain": [
       "loan_limit                   118936\n",
       "approv_in_adv                118936\n",
       "loan_type                    118936\n",
       "loan_purpose                 118936\n",
       "Credit_Worthiness            118936\n",
       "open_credit                  118936\n",
       "business_or_commercial       118936\n",
       "loan_amount                  118936\n",
       "term                         118936\n",
       "Neg_ammortization            118936\n",
       "interest_only                118936\n",
       "lump_sum_payment             118936\n",
       "property_value               118936\n",
       "construction_type            118936\n",
       "occupancy_type               118936\n",
       "Secured_by                   118936\n",
       "total_units                  118936\n",
       "income                       118936\n",
       "credit_type                  118936\n",
       "Credit_Score                 118936\n",
       "co-applicant_credit_type     118936\n",
       "age                          118936\n",
       "submission_of_application    118936\n",
       "LTV                          118936\n",
       "Region                       118936\n",
       "Security_Type                118936\n",
       "dtype: int64"
      ]
     },
     "execution_count": 133,
     "metadata": {},
     "output_type": "execute_result"
    }
   ],
   "source": [
    "x_train.count()"
   ]
  },
  {
   "cell_type": "code",
   "execution_count": 134,
   "id": "433bb615",
   "metadata": {},
   "outputs": [
    {
     "data": {
      "text/plain": [
       "loan_limit                   29734\n",
       "approv_in_adv                29734\n",
       "loan_type                    29734\n",
       "loan_purpose                 29734\n",
       "Credit_Worthiness            29734\n",
       "open_credit                  29734\n",
       "business_or_commercial       29734\n",
       "loan_amount                  29734\n",
       "term                         29734\n",
       "Neg_ammortization            29734\n",
       "interest_only                29734\n",
       "lump_sum_payment             29734\n",
       "property_value               29734\n",
       "construction_type            29734\n",
       "occupancy_type               29734\n",
       "Secured_by                   29734\n",
       "total_units                  29734\n",
       "income                       29734\n",
       "credit_type                  29734\n",
       "Credit_Score                 29734\n",
       "co-applicant_credit_type     29734\n",
       "age                          29734\n",
       "submission_of_application    29734\n",
       "LTV                          29734\n",
       "Region                       29734\n",
       "Security_Type                29734\n",
       "dtype: int64"
      ]
     },
     "execution_count": 134,
     "metadata": {},
     "output_type": "execute_result"
    }
   ],
   "source": [
    "x_test.count()"
   ]
  },
  {
   "cell_type": "code",
   "execution_count": 135,
   "id": "74607ff3",
   "metadata": {},
   "outputs": [
    {
     "data": {
      "text/plain": [
       "count    29734.000000\n",
       "mean         0.243492\n",
       "std          0.429197\n",
       "min          0.000000\n",
       "25%          0.000000\n",
       "50%          0.000000\n",
       "75%          0.000000\n",
       "max          1.000000\n",
       "Name: Status, dtype: float64"
      ]
     },
     "execution_count": 135,
     "metadata": {},
     "output_type": "execute_result"
    }
   ],
   "source": [
    "y_test.describe()"
   ]
  },
  {
   "cell_type": "code",
   "execution_count": 136,
   "id": "7e709218",
   "metadata": {},
   "outputs": [
    {
     "data": {
      "text/plain": [
       "141245    0\n",
       "3507      0\n",
       "53688     0\n",
       "46491     1\n",
       "54671     0\n",
       "         ..\n",
       "119879    1\n",
       "103694    0\n",
       "131932    0\n",
       "146867    0\n",
       "121958    1\n",
       "Name: Status, Length: 118936, dtype: int64"
      ]
     },
     "execution_count": 136,
     "metadata": {},
     "output_type": "execute_result"
    }
   ],
   "source": [
    "y_train"
   ]
  },
  {
   "cell_type": "code",
   "execution_count": null,
   "id": "aada8db8",
   "metadata": {},
   "outputs": [],
   "source": []
  }
 ],
 "metadata": {
  "kernelspec": {
   "display_name": "Python 3 (ipykernel)",
   "language": "python",
   "name": "python3"
  },
  "language_info": {
   "codemirror_mode": {
    "name": "ipython",
    "version": 3
   },
   "file_extension": ".py",
   "mimetype": "text/x-python",
   "name": "python",
   "nbconvert_exporter": "python",
   "pygments_lexer": "ipython3",
   "version": "3.9.13"
  }
 },
 "nbformat": 4,
 "nbformat_minor": 5
}
