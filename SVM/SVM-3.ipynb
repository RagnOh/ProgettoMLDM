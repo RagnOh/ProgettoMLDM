{
 "cells": [
  {
   "cell_type": "code",
   "execution_count": 1,
   "id": "29ba1c00",
   "metadata": {
    "id": "29ba1c00"
   },
   "outputs": [],
   "source": [
    "# Python ≥3.5 is required\n",
    "import sys\n",
    "assert sys.version_info >= (3, 5)\n",
    "\n",
    "# Scikit-Learn ≥0.20 is required\n",
    "import sklearn\n",
    "assert sklearn.__version__ >= \"0.20\"\n",
    "\n",
    "# Common imports\n",
    "import numpy as np\n",
    "import os\n",
    "\n",
    "#importo libreria panda per leggere ed elaborare csv\n",
    "import pandas as pd\n",
    "\n",
    "import seaborn as sns\n",
    "import matplotlib.pyplot as plt\n",
    "\n",
    "# to make this notebook's output stable across runs\n",
    "np.random.seed(42)\n",
    "\n",
    "\n",
    "#data=pd.read_csv('/Users/sgira/Downloads//ProgettoMLDM-main (5)/dataset_clean.csv')\n",
    "train_data=pd.read_csv('/Users/sgira/Downloads/ProgettoMLDM/ProgettoMLDM-main/Dataset/train_data.csv')\n",
    "test_data=pd.read_csv('/Users/sgira/Downloads/ProgettoMLDM/ProgettoMLDM-main/Dataset/test_data.csv')\n",
    "y_train=pd.read_csv('/Users/sgira/Downloads/ProgettoMLDM/ProgettoMLDM-main/Dataset/train_y.csv')\n",
    "y_test=pd.read_csv('/Users/sgira/Downloads/ProgettoMLDM/ProgettoMLDM-main/Dataset/test_y.csv')\n"
   ]
  },
  {
   "cell_type": "code",
   "execution_count": 2,
   "id": "c58a9cd8",
   "metadata": {
    "id": "c58a9cd8"
   },
   "outputs": [],
   "source": [
    "from sklearn.svm import SVC, LinearSVC\n",
    "from sklearn.pipeline import Pipeline\n",
    "from sklearn.preprocessing import StandardScaler,PolynomialFeatures,MinMaxScaler\n",
    "from sklearn.model_selection import RandomizedSearchCV\n",
    "from sklearn.model_selection import GridSearchCV"
   ]
  },
  {
   "cell_type": "code",
   "execution_count": 4,
   "id": "8d318962",
   "metadata": {
    "colab": {
     "base_uri": "https://localhost:8080/"
    },
    "id": "8d318962",
    "outputId": "6849645c-752b-448a-fd25-f0fd71a93957",
    "scrolled": true
   },
   "outputs": [
    {
     "name": "stdout",
     "output_type": "stream",
     "text": [
      "[Pipeline] ............ (step 1 of 2) Processing scaler, total=   0.2s\n",
      "[Pipeline] ............ (step 2 of 2) Processing linsvc, total= 1.0min\n"
     ]
    },
    {
     "name": "stderr",
     "output_type": "stream",
     "text": [
      "/usr/local/lib/python3.10/dist-packages/sklearn/svm/_base.py:1244: ConvergenceWarning: Liblinear failed to converge, increase the number of iterations.\n",
      "  warnings.warn(\n"
     ]
    },
    {
     "data": {
      "text/plain": [
       "0.7771821828745331"
      ]
     },
     "execution_count": 4,
     "metadata": {},
     "output_type": "execute_result"
    }
   ],
   "source": [
    "LinSVM = Pipeline([\n",
    "    ('scaler', StandardScaler()),\n",
    "    ('linsvc', LinearSVC())],\n",
    "    verbose=True)\n",
    "LinSVM.fit(train_data, np.ravel(y_train))\n",
    "LinSVM.score(test_data, np.ravel(y_test))"
   ]
  },
  {
   "cell_type": "markdown",
   "id": "af420420",
   "metadata": {},
   "source": [
    "Test"
   ]
  },
  {
   "cell_type": "code",
   "execution_count": 5,
   "id": "d3dd4f3e",
   "metadata": {
    "colab": {
     "base_uri": "https://localhost:8080/",
     "height": 200
    },
    "id": "d3dd4f3e",
    "outputId": "a8a0178a-296b-4eec-eaa7-6ab1fb71425b"
   },
   "outputs": [
    {
     "name": "stdout",
     "output_type": "stream",
     "text": [
      "Fitting 2 folds for each of 15 candidates, totalling 30 fits\n",
      "[Pipeline] ............ (step 1 of 2) Processing scaler, total=   0.1s\n",
      "[Pipeline] ............ (step 2 of 2) Processing linsvc, total=   0.2s\n"
     ]
    },
    {
     "data": {
      "text/html": [
       "<style>#sk-container-id-1 {color: black;background-color: white;}#sk-container-id-1 pre{padding: 0;}#sk-container-id-1 div.sk-toggleable {background-color: white;}#sk-container-id-1 label.sk-toggleable__label {cursor: pointer;display: block;width: 100%;margin-bottom: 0;padding: 0.3em;box-sizing: border-box;text-align: center;}#sk-container-id-1 label.sk-toggleable__label-arrow:before {content: \"▸\";float: left;margin-right: 0.25em;color: #696969;}#sk-container-id-1 label.sk-toggleable__label-arrow:hover:before {color: black;}#sk-container-id-1 div.sk-estimator:hover label.sk-toggleable__label-arrow:before {color: black;}#sk-container-id-1 div.sk-toggleable__content {max-height: 0;max-width: 0;overflow: hidden;text-align: left;background-color: #f0f8ff;}#sk-container-id-1 div.sk-toggleable__content pre {margin: 0.2em;color: black;border-radius: 0.25em;background-color: #f0f8ff;}#sk-container-id-1 input.sk-toggleable__control:checked~div.sk-toggleable__content {max-height: 200px;max-width: 100%;overflow: auto;}#sk-container-id-1 input.sk-toggleable__control:checked~label.sk-toggleable__label-arrow:before {content: \"▾\";}#sk-container-id-1 div.sk-estimator input.sk-toggleable__control:checked~label.sk-toggleable__label {background-color: #d4ebff;}#sk-container-id-1 div.sk-label input.sk-toggleable__control:checked~label.sk-toggleable__label {background-color: #d4ebff;}#sk-container-id-1 input.sk-hidden--visually {border: 0;clip: rect(1px 1px 1px 1px);clip: rect(1px, 1px, 1px, 1px);height: 1px;margin: -1px;overflow: hidden;padding: 0;position: absolute;width: 1px;}#sk-container-id-1 div.sk-estimator {font-family: monospace;background-color: #f0f8ff;border: 1px dotted black;border-radius: 0.25em;box-sizing: border-box;margin-bottom: 0.5em;}#sk-container-id-1 div.sk-estimator:hover {background-color: #d4ebff;}#sk-container-id-1 div.sk-parallel-item::after {content: \"\";width: 100%;border-bottom: 1px solid gray;flex-grow: 1;}#sk-container-id-1 div.sk-label:hover label.sk-toggleable__label {background-color: #d4ebff;}#sk-container-id-1 div.sk-serial::before {content: \"\";position: absolute;border-left: 1px solid gray;box-sizing: border-box;top: 0;bottom: 0;left: 50%;z-index: 0;}#sk-container-id-1 div.sk-serial {display: flex;flex-direction: column;align-items: center;background-color: white;padding-right: 0.2em;padding-left: 0.2em;position: relative;}#sk-container-id-1 div.sk-item {position: relative;z-index: 1;}#sk-container-id-1 div.sk-parallel {display: flex;align-items: stretch;justify-content: center;background-color: white;position: relative;}#sk-container-id-1 div.sk-item::before, #sk-container-id-1 div.sk-parallel-item::before {content: \"\";position: absolute;border-left: 1px solid gray;box-sizing: border-box;top: 0;bottom: 0;left: 50%;z-index: -1;}#sk-container-id-1 div.sk-parallel-item {display: flex;flex-direction: column;z-index: 1;position: relative;background-color: white;}#sk-container-id-1 div.sk-parallel-item:first-child::after {align-self: flex-end;width: 50%;}#sk-container-id-1 div.sk-parallel-item:last-child::after {align-self: flex-start;width: 50%;}#sk-container-id-1 div.sk-parallel-item:only-child::after {width: 0;}#sk-container-id-1 div.sk-dashed-wrapped {border: 1px dashed gray;margin: 0 0.4em 0.5em 0.4em;box-sizing: border-box;padding-bottom: 0.4em;background-color: white;}#sk-container-id-1 div.sk-label label {font-family: monospace;font-weight: bold;display: inline-block;line-height: 1.2em;}#sk-container-id-1 div.sk-label-container {text-align: center;}#sk-container-id-1 div.sk-container {/* jupyter's `normalize.less` sets `[hidden] { display: none; }` but bootstrap.min.css set `[hidden] { display: none !important; }` so we also need the `!important` here to be able to override the default hidden behavior on the sphinx rendered scikit-learn.org. See: https://github.com/scikit-learn/scikit-learn/issues/21755 */display: inline-block !important;position: relative;}#sk-container-id-1 div.sk-text-repr-fallback {display: none;}</style><div id=\"sk-container-id-1\" class=\"sk-top-container\"><div class=\"sk-text-repr-fallback\"><pre>GridSearchCV(cv=2,\n",
       "             estimator=Pipeline(steps=[(&#x27;scaler&#x27;, StandardScaler()),\n",
       "                                       (&#x27;linsvc&#x27;, LinearSVC())],\n",
       "                                verbose=True),\n",
       "             n_jobs=-1,\n",
       "             param_grid={&#x27;linsvc__C&#x27;: [0.001, 0.1, 1, 5, 10],\n",
       "                         &#x27;linsvc__dual&#x27;: [False],\n",
       "                         &#x27;linsvc__loss&#x27;: [&#x27;squared_hinge&#x27;],\n",
       "                         &#x27;linsvc__max_iter&#x27;: [20000], &#x27;linsvc__penalty&#x27;: [&#x27;l2&#x27;],\n",
       "                         &#x27;linsvc__tol&#x27;: [1e-05, 0.001, 0.1]},\n",
       "             refit=&#x27;accuracy&#x27;, return_train_score=True,\n",
       "             scoring={&#x27;accuracy&#x27;: &#x27;accuracy&#x27;,\n",
       "                      &#x27;balanced_accuracy&#x27;: &#x27;balanced_accuracy&#x27;,\n",
       "                      &#x27;f1&#x27;: &#x27;f1_macro&#x27;},\n",
       "             verbose=10)</pre><b>In a Jupyter environment, please rerun this cell to show the HTML representation or trust the notebook. <br />On GitHub, the HTML representation is unable to render, please try loading this page with nbviewer.org.</b></div><div class=\"sk-container\" hidden><div class=\"sk-item sk-dashed-wrapped\"><div class=\"sk-label-container\"><div class=\"sk-label sk-toggleable\"><input class=\"sk-toggleable__control sk-hidden--visually\" id=\"sk-estimator-id-1\" type=\"checkbox\" ><label for=\"sk-estimator-id-1\" class=\"sk-toggleable__label sk-toggleable__label-arrow\">GridSearchCV</label><div class=\"sk-toggleable__content\"><pre>GridSearchCV(cv=2,\n",
       "             estimator=Pipeline(steps=[(&#x27;scaler&#x27;, StandardScaler()),\n",
       "                                       (&#x27;linsvc&#x27;, LinearSVC())],\n",
       "                                verbose=True),\n",
       "             n_jobs=-1,\n",
       "             param_grid={&#x27;linsvc__C&#x27;: [0.001, 0.1, 1, 5, 10],\n",
       "                         &#x27;linsvc__dual&#x27;: [False],\n",
       "                         &#x27;linsvc__loss&#x27;: [&#x27;squared_hinge&#x27;],\n",
       "                         &#x27;linsvc__max_iter&#x27;: [20000], &#x27;linsvc__penalty&#x27;: [&#x27;l2&#x27;],\n",
       "                         &#x27;linsvc__tol&#x27;: [1e-05, 0.001, 0.1]},\n",
       "             refit=&#x27;accuracy&#x27;, return_train_score=True,\n",
       "             scoring={&#x27;accuracy&#x27;: &#x27;accuracy&#x27;,\n",
       "                      &#x27;balanced_accuracy&#x27;: &#x27;balanced_accuracy&#x27;,\n",
       "                      &#x27;f1&#x27;: &#x27;f1_macro&#x27;},\n",
       "             verbose=10)</pre></div></div></div><div class=\"sk-parallel\"><div class=\"sk-parallel-item\"><div class=\"sk-item\"><div class=\"sk-label-container\"><div class=\"sk-label sk-toggleable\"><input class=\"sk-toggleable__control sk-hidden--visually\" id=\"sk-estimator-id-2\" type=\"checkbox\" ><label for=\"sk-estimator-id-2\" class=\"sk-toggleable__label sk-toggleable__label-arrow\">estimator: Pipeline</label><div class=\"sk-toggleable__content\"><pre>Pipeline(steps=[(&#x27;scaler&#x27;, StandardScaler()), (&#x27;linsvc&#x27;, LinearSVC())],\n",
       "         verbose=True)</pre></div></div></div><div class=\"sk-serial\"><div class=\"sk-item\"><div class=\"sk-serial\"><div class=\"sk-item\"><div class=\"sk-estimator sk-toggleable\"><input class=\"sk-toggleable__control sk-hidden--visually\" id=\"sk-estimator-id-3\" type=\"checkbox\" ><label for=\"sk-estimator-id-3\" class=\"sk-toggleable__label sk-toggleable__label-arrow\">StandardScaler</label><div class=\"sk-toggleable__content\"><pre>StandardScaler()</pre></div></div></div><div class=\"sk-item\"><div class=\"sk-estimator sk-toggleable\"><input class=\"sk-toggleable__control sk-hidden--visually\" id=\"sk-estimator-id-4\" type=\"checkbox\" ><label for=\"sk-estimator-id-4\" class=\"sk-toggleable__label sk-toggleable__label-arrow\">LinearSVC</label><div class=\"sk-toggleable__content\"><pre>LinearSVC()</pre></div></div></div></div></div></div></div></div></div></div></div></div>"
      ],
      "text/plain": [
       "GridSearchCV(cv=2,\n",
       "             estimator=Pipeline(steps=[('scaler', StandardScaler()),\n",
       "                                       ('linsvc', LinearSVC())],\n",
       "                                verbose=True),\n",
       "             n_jobs=-1,\n",
       "             param_grid={'linsvc__C': [0.001, 0.1, 1, 5, 10],\n",
       "                         'linsvc__dual': [False],\n",
       "                         'linsvc__loss': ['squared_hinge'],\n",
       "                         'linsvc__max_iter': [20000], 'linsvc__penalty': ['l2'],\n",
       "                         'linsvc__tol': [1e-05, 0.001, 0.1]},\n",
       "             refit='accuracy', return_train_score=True,\n",
       "             scoring={'accuracy': 'accuracy',\n",
       "                      'balanced_accuracy': 'balanced_accuracy',\n",
       "                      'f1': 'f1_macro'},\n",
       "             verbose=10)"
      ]
     },
     "execution_count": 5,
     "metadata": {},
     "output_type": "execute_result"
    }
   ],
   "source": [
    "parameters = {\n",
    "    \"linsvc__C\": [0.001,0.1,1,5,10],\n",
    "    \"linsvc__tol\" : [1e-5,1e-3,1e-1],\n",
    "    \"linsvc__penalty\": ['l2'],\n",
    "    \"linsvc__loss\" : ['squared_hinge'],\n",
    "    \"linsvc__dual\": [False],\n",
    "    \"linsvc__max_iter\": [20000],\n",
    "    }\n",
    "\n",
    "\n",
    "\n",
    "# Creo il dizionario di scoring\n",
    "SCORING = {\n",
    "    \"accuracy\": \"accuracy\",\n",
    "    \"balanced_accuracy\": \"balanced_accuracy\",\n",
    "    \"f1\": \"f1_macro\",\n",
    "}\n",
    "\n",
    "# Esecuzione della GridSearchCV\n",
    "best_linsvc = GridSearchCV(\n",
    "    estimator=LinSVM,\n",
    "    param_grid=parameters,\n",
    "    cv=2,\n",
    "    verbose=10,\n",
    "    scoring=SCORING,\n",
    "    return_train_score=True,\n",
    "    refit=\"accuracy\",\n",
    "    n_jobs=-1,\n",
    ")\n",
    "\n",
    "\n",
    "best_linsvc.fit(train_data,np.ravel(y_train))"
   ]
  },
  {
   "cell_type": "code",
   "execution_count": 6,
   "id": "2490b8ab",
   "metadata": {
    "colab": {
     "base_uri": "https://localhost:8080/"
    },
    "id": "2490b8ab",
    "outputId": "039ec714-947a-4419-e427-67e17da63d4f"
   },
   "outputs": [
    {
     "name": "stdout",
     "output_type": "stream",
     "text": [
      "Pipeline(steps=[('scaler', StandardScaler()),\n",
      "                ('linsvc',\n",
      "                 LinearSVC(C=0.001, dual=False, max_iter=20000, tol=0.1))],\n",
      "         verbose=True)\n"
     ]
    },
    {
     "data": {
      "text/plain": [
       "0.7771475999446673"
      ]
     },
     "execution_count": 6,
     "metadata": {},
     "output_type": "execute_result"
    }
   ],
   "source": [
    "linsvc_clf = best_linsvc.best_estimator_\n",
    "print(linsvc_clf)\n",
    "linsvc_clf.score(test_data,np.ravel(y_test))"
   ]
  },
  {
   "cell_type": "code",
   "execution_count": 3,
   "id": "32ed571f",
   "metadata": {
    "id": "50960098",
    "outputId": "931599a2-61af-4d81-813d-b7613c9b5ce1"
   },
   "outputs": [
    {
     "name": "stdout",
     "output_type": "stream",
     "text": [
      "[Pipeline] ............ (step 1 of 2) Processing scaler, total=   0.1s\n",
      "[Pipeline] ............... (step 2 of 2) Processing svc, total=20.7min\n"
     ]
    },
    {
     "data": {
      "text/plain": [
       "0.8518121455249689"
      ]
     },
     "execution_count": 3,
     "metadata": {},
     "output_type": "execute_result"
    }
   ],
   "source": [
    "SVM = Pipeline([\n",
    "    ('scaler', StandardScaler()),\n",
    "    (\"svc\", SVC(cache_size=2000))],\n",
    "    verbose=True)\n",
    "SVM.fit(train_data, np.ravel(y_train))\n",
    "SVM.score(test_data, np.ravel(y_test))"
   ]
  },
  {
   "cell_type": "code",
   "execution_count": 7,
   "id": "9b068f73",
   "metadata": {
    "colab": {
     "base_uri": "https://localhost:8080/"
    },
    "id": "9b068f73",
    "outputId": "e9aeab61-323c-4d2d-a348-0731e541db9e"
   },
   "outputs": [
    {
     "name": "stdout",
     "output_type": "stream",
     "text": [
      "[Pipeline] ............ (step 1 of 2) Processing scaler, total=   0.1s\n",
      "[Pipeline] ............... (step 2 of 2) Processing svc, total=16.1min\n",
      "SVM(kernel=rbf) : 0.8502213307511413\n",
      "[Pipeline] ............ (step 1 of 2) Processing scaler, total=   0.0s\n",
      "[Pipeline] ............... (step 2 of 2) Processing svc, total=12.6min\n",
      "SVM(kernel=poly) : 0.850843823488726\n",
      "[Pipeline] ............ (step 1 of 2) Processing scaler, total=   0.0s\n",
      "[Pipeline] ............... (step 2 of 2) Processing svc, total=23.2min\n",
      "SVM(kernel=sigmoid) : 0.6652026559690137\n"
     ]
    }
   ],
   "source": [
    "SVM_result = []\n",
    "for k in ['rbf','poly','sigmoid']:\n",
    "      SVM = Pipeline([\n",
    "          ('scaler', StandardScaler()),\n",
    "          ('svc', SVC(kernel=k,\n",
    "                      cache_size=2000))],\n",
    "          verbose=True)\n",
    "      SVM.fit(train_data, np.ravel(y_train))\n",
    "      score = SVM.score(test_data, np.ravel(y_test))\n",
    "      SVM_result.append([f'SVM(kernel={k})', score])\n",
    "      print(f'SVM(kernel={k}) : {score}')"
   ]
  },
  {
   "cell_type": "code",
   "execution_count": 9,
   "id": "5a24f87f",
   "metadata": {
    "colab": {
     "base_uri": "https://localhost:8080/",
     "height": 607
    },
    "id": "5a24f87f",
    "outputId": "e85c6854-e188-4062-f157-54167476efe5"
   },
   "outputs": [
    {
     "data": {
      "image/png": "[encoded data removed]",
      "text/plain": [
       "<Figure size 1000x600 with 1 Axes>"
      ]
     },
     "metadata": {},
     "output_type": "display_data"
    }
   ],
   "source": [
    "import matplotlib.pyplot as plt\n",
    "import seaborn as sns\n",
    "\n",
    "# I punteggi ottenuti per i diversi kernel SVM\n",
    "kernel_names = [item[0] for item in SVM_result]\n",
    "scores = [item[1] for item in SVM_result]\n",
    "\n",
    "# Creazione del barplot utilizzando Seaborn\n",
    "plt.figure(figsize=(10, 6))\n",
    "sns.barplot(x=kernel_names, y=scores, palette=\"Blues_d\")\n",
    "plt.title(\"Punteggi SVM per diversi kernel\")\n",
    "plt.xlabel(\"Kernel SVM\")\n",
    "plt.ylabel(\"Punteggio\")\n",
    "plt.xticks(rotation=45)  # Ruota le etichette sull'asse x per una migliore leggibilità\n",
    "\n",
    "# Mostra il grafico\n",
    "plt.tight_layout()\n",
    "plt.show()\n",
    "\n",
    "\n",
    "\n",
    "\n",
    "\n"
   ]
  },
  {
   "cell_type": "code",
   "execution_count": 9,
   "id": "da6548a4",
   "metadata": {
    "colab": {
     "base_uri": "https://localhost:8080/"
    },
    "id": "da6548a4",
    "outputId": "a13e4328-ec8a-4f06-c511-112bd45bcdc3"
   },
   "outputs": [
    {
     "name": "stderr",
     "output_type": "stream",
     "text": [
      "/opt/anaconda3/lib/python3.9/site-packages/sklearn/model_selection/_search.py:306: UserWarning: The total space of parameters 5 is smaller than n_iter=15. Running 5 iterations. For exhaustive searches, use GridSearchCV.\n",
      "  warnings.warn(\n"
     ]
    },
    {
     "name": "stdout",
     "output_type": "stream",
     "text": [
      "Fitting 2 folds for each of 5 candidates, totalling 10 fits\n",
      "[CV 2/2; 4/4] START svc__C=15, svc__cache_size=200, svc__kernel=rbf, svc__max_iter=20000\n",
      "[CV 2/2; 4/4] END svc__C=15, svc__cache_size=200, svc__kernel=rbf, svc__max_iter=20000; accuracy: (test=0.855) balanced_accuracy: (test=0.735) f1: (test=0.769) total time= 1.6min\n",
      "[CV 2/2; 1/4] START svc__C=0.5, svc__cache_size=200, svc__kernel=rbf, svc__max_iter=20000\n",
      "[CV 2/2; 1/4] END svc__C=0.5, svc__cache_size=200, svc__kernel=rbf, svc__max_iter=20000; accuracy: (test=0.798) balanced_accuracy: (test=0.609) f1: (test=0.623) total time= 1.7min\n",
      "[CV 1/2; 2/4] START svc__C=5, svc__cache_size=200, svc__kernel=rbf, svc__max_iter=20000\n",
      "[CV 1/2; 2/4] END svc__C=5, svc__cache_size=200, svc__kernel=rbf, svc__max_iter=20000; accuracy: (test=0.855) balanced_accuracy: (test=0.729) f1: (test=0.765) total time= 1.7min\n",
      "[CV 2/2; 1/5] START svc__C=0.01, svc__cache_size=200, svc__kernel=rbf...........\n",
      "[CV 2/2; 1/5] END svc__C=0.01, svc__cache_size=200, svc__kernel=rbf; accuracy: (test=0.767) balanced_accuracy: (test=0.530) f1: (test=0.494) total time= 2.6min\n",
      "[CV 1/2; 1/5] START svc__C=0.01, svc__cache_size=200, svc__kernel=rbf...........\n",
      "[CV 1/2; 1/5] END svc__C=0.01, svc__cache_size=200, svc__kernel=rbf; accuracy: (test=0.767) balanced_accuracy: (test=0.532) f1: (test=0.497) total time= 2.7min\n",
      "[CV 2/2; 3/4] START svc__C=10, svc__cache_size=200, svc__kernel=rbf, svc__max_iter=20000\n",
      "[CV 2/2; 3/4] END svc__C=10, svc__cache_size=200, svc__kernel=rbf, svc__max_iter=20000; accuracy: (test=0.857) balanced_accuracy: (test=0.736) f1: (test=0.772) total time= 1.6min\n",
      "[CV 1/2; 2/5] START svc__C=10, svc__cache_size=200, svc__kernel=rbf.............\n",
      "[CV 1/2; 2/5] END svc__C=10, svc__cache_size=200, svc__kernel=rbf; accuracy: (test=0.858) balanced_accuracy: (test=0.733) f1: (test=0.770) total time= 6.1min\n",
      "[CV 1/2; 3/4] START svc__C=10, svc__cache_size=200, svc__kernel=rbf, svc__max_iter=20000\n",
      "[CV 1/2; 3/4] END svc__C=10, svc__cache_size=200, svc__kernel=rbf, svc__max_iter=20000; accuracy: (test=0.857) balanced_accuracy: (test=0.735) f1: (test=0.770) total time= 1.6min\n",
      "[CV 2/2; 2/5] START svc__C=10, svc__cache_size=200, svc__kernel=rbf.............\n",
      "[CV 2/2; 2/5] END svc__C=10, svc__cache_size=200, svc__kernel=rbf; accuracy: (test=0.860) balanced_accuracy: (test=0.738) f1: (test=0.774) total time= 6.2min\n",
      "[CV 1/2; 3/5] START svc__C=50, svc__cache_size=200, svc__kernel=rbf.............\n",
      "[CV 1/2; 3/5] END svc__C=50, svc__cache_size=200, svc__kernel=rbf; accuracy: (test=0.853) balanced_accuracy: (test=0.732) f1: (test=0.766) total time=12.7min\n",
      "[CV 2/2; 3/5] START svc__C=50, svc__cache_size=200, svc__kernel=rbf.............\n",
      "[CV 2/2; 3/5] END svc__C=50, svc__cache_size=200, svc__kernel=rbf; accuracy: (test=0.856) balanced_accuracy: (test=0.740) f1: (test=0.773) total time=14.1min\n",
      "[CV 1/2; 4/5] START svc__C=100, svc__cache_size=200, svc__kernel=rbf............\n",
      "[CV 1/2; 4/5] END svc__C=100, svc__cache_size=200, svc__kernel=rbf; accuracy: (test=0.848) balanced_accuracy: (test=0.731) f1: (test=0.762) total time=17.8min\n",
      "[CV 1/2; 1/4] START svc__C=0.5, svc__cache_size=200, svc__kernel=rbf, svc__max_iter=20000\n",
      "[CV 1/2; 1/4] END svc__C=0.5, svc__cache_size=200, svc__kernel=rbf, svc__max_iter=20000; accuracy: (test=0.798) balanced_accuracy: (test=0.609) f1: (test=0.623) total time= 1.8min\n",
      "[CV 2/2; 4/5] START svc__C=100, svc__cache_size=200, svc__kernel=rbf............\n",
      "[CV 2/2; 4/5] END svc__C=100, svc__cache_size=200, svc__kernel=rbf; accuracy: (test=0.851) balanced_accuracy: (test=0.739) f1: (test=0.769) total time=18.4min\n",
      "[CV 2/2; 2/4] START svc__C=5, svc__cache_size=200, svc__kernel=rbf, svc__max_iter=20000\n",
      "[CV 2/2; 2/4] END svc__C=5, svc__cache_size=200, svc__kernel=rbf, svc__max_iter=20000; accuracy: (test=0.857) balanced_accuracy: (test=0.734) f1: (test=0.770) total time= 1.7min\n",
      "[CV 1/2; 5/5] START svc__C=200, svc__cache_size=200, svc__kernel=rbf............\n",
      "[CV 1/2; 5/5] END svc__C=200, svc__cache_size=200, svc__kernel=rbf; accuracy: (test=0.843) balanced_accuracy: (test=0.730) f1: (test=0.758) total time=25.0min\n",
      "[CV 1/2; 4/4] START svc__C=15, svc__cache_size=200, svc__kernel=rbf, svc__max_iter=20000\n",
      "[CV 1/2; 4/4] END svc__C=15, svc__cache_size=200, svc__kernel=rbf, svc__max_iter=20000; accuracy: (test=0.853) balanced_accuracy: (test=0.729) f1: (test=0.764) total time= 1.6min\n",
      "[CV 2/2; 5/5] START svc__C=200, svc__cache_size=200, svc__kernel=rbf............\n",
      "[CV 2/2; 5/5] END svc__C=200, svc__cache_size=200, svc__kernel=rbf; accuracy: (test=0.845) balanced_accuracy: (test=0.737) f1: (test=0.763) total time=26.7min\n"
     ]
    },
    {
     "data": {
      "text/html": [
       "<style>#sk-container-id-2 {color: black;background-color: white;}#sk-container-id-2 pre{padding: 0;}#sk-container-id-2 div.sk-toggleable {background-color: white;}#sk-container-id-2 label.sk-toggleable__label {cursor: pointer;display: block;width: 100%;margin-bottom: 0;padding: 0.3em;box-sizing: border-box;text-align: center;}#sk-container-id-2 label.sk-toggleable__label-arrow:before {content: \"▸\";float: left;margin-right: 0.25em;color: #696969;}#sk-container-id-2 label.sk-toggleable__label-arrow:hover:before {color: black;}#sk-container-id-2 div.sk-estimator:hover label.sk-toggleable__label-arrow:before {color: black;}#sk-container-id-2 div.sk-toggleable__content {max-height: 0;max-width: 0;overflow: hidden;text-align: left;background-color: #f0f8ff;}#sk-container-id-2 div.sk-toggleable__content pre {margin: 0.2em;color: black;border-radius: 0.25em;background-color: #f0f8ff;}#sk-container-id-2 input.sk-toggleable__control:checked~div.sk-toggleable__content {max-height: 200px;max-width: 100%;overflow: auto;}#sk-container-id-2 input.sk-toggleable__control:checked~label.sk-toggleable__label-arrow:before {content: \"▾\";}#sk-container-id-2 div.sk-estimator input.sk-toggleable__control:checked~label.sk-toggleable__label {background-color: #d4ebff;}#sk-container-id-2 div.sk-label input.sk-toggleable__control:checked~label.sk-toggleable__label {background-color: #d4ebff;}#sk-container-id-2 input.sk-hidden--visually {border: 0;clip: rect(1px 1px 1px 1px);clip: rect(1px, 1px, 1px, 1px);height: 1px;margin: -1px;overflow: hidden;padding: 0;position: absolute;width: 1px;}#sk-container-id-2 div.sk-estimator {font-family: monospace;background-color: #f0f8ff;border: 1px dotted black;border-radius: 0.25em;box-sizing: border-box;margin-bottom: 0.5em;}#sk-container-id-2 div.sk-estimator:hover {background-color: #d4ebff;}#sk-container-id-2 div.sk-parallel-item::after {content: \"\";width: 100%;border-bottom: 1px solid gray;flex-grow: 1;}#sk-container-id-2 div.sk-label:hover label.sk-toggleable__label {background-color: #d4ebff;}#sk-container-id-2 div.sk-serial::before {content: \"\";position: absolute;border-left: 1px solid gray;box-sizing: border-box;top: 0;bottom: 0;left: 50%;z-index: 0;}#sk-container-id-2 div.sk-serial {display: flex;flex-direction: column;align-items: center;background-color: white;padding-right: 0.2em;padding-left: 0.2em;position: relative;}#sk-container-id-2 div.sk-item {position: relative;z-index: 1;}#sk-container-id-2 div.sk-parallel {display: flex;align-items: stretch;justify-content: center;background-color: white;position: relative;}#sk-container-id-2 div.sk-item::before, #sk-container-id-2 div.sk-parallel-item::before {content: \"\";position: absolute;border-left: 1px solid gray;box-sizing: border-box;top: 0;bottom: 0;left: 50%;z-index: -1;}#sk-container-id-2 div.sk-parallel-item {display: flex;flex-direction: column;z-index: 1;position: relative;background-color: white;}#sk-container-id-2 div.sk-parallel-item:first-child::after {align-self: flex-end;width: 50%;}#sk-container-id-2 div.sk-parallel-item:last-child::after {align-self: flex-start;width: 50%;}#sk-container-id-2 div.sk-parallel-item:only-child::after {width: 0;}#sk-container-id-2 div.sk-dashed-wrapped {border: 1px dashed gray;margin: 0 0.4em 0.5em 0.4em;box-sizing: border-box;padding-bottom: 0.4em;background-color: white;}#sk-container-id-2 div.sk-label label {font-family: monospace;font-weight: bold;display: inline-block;line-height: 1.2em;}#sk-container-id-2 div.sk-label-container {text-align: center;}#sk-container-id-2 div.sk-container {/* jupyter's `normalize.less` sets `[hidden] { display: none; }` but bootstrap.min.css set `[hidden] { display: none !important; }` so we also need the `!important` here to be able to override the default hidden behavior on the sphinx rendered scikit-learn.org. See: https://github.com/scikit-learn/scikit-learn/issues/21755 */display: inline-block !important;position: relative;}#sk-container-id-2 div.sk-text-repr-fallback {display: none;}</style><div id=\"sk-container-id-2\" class=\"sk-top-container\"><div class=\"sk-text-repr-fallback\"><pre>RandomizedSearchCV(cv=2,\n",
       "                   estimator=Pipeline(steps=[(&#x27;scaler&#x27;, StandardScaler()),\n",
       "                                             (&#x27;svc&#x27;, SVC())]),\n",
       "                   n_iter=15, n_jobs=-1,\n",
       "                   param_distributions={&#x27;svc__C&#x27;: [0.01, 10, 50, 100, 200],\n",
       "                                        &#x27;svc__cache_size&#x27;: [200],\n",
       "                                        &#x27;svc__kernel&#x27;: [&#x27;rbf&#x27;]},\n",
       "                   refit=&#x27;accuracy&#x27;,\n",
       "                   scoring={&#x27;accuracy&#x27;: &#x27;accuracy&#x27;,\n",
       "                            &#x27;balanced_accuracy&#x27;: &#x27;balanced_accuracy&#x27;,\n",
       "                            &#x27;f1&#x27;: &#x27;f1_macro&#x27;},\n",
       "                   verbose=10)</pre><b>In a Jupyter environment, please rerun this cell to show the HTML representation or trust the notebook. <br />On GitHub, the HTML representation is unable to render, please try loading this page with nbviewer.org.</b></div><div class=\"sk-container\" hidden><div class=\"sk-item sk-dashed-wrapped\"><div class=\"sk-label-container\"><div class=\"sk-label sk-toggleable\"><input class=\"sk-toggleable__control sk-hidden--visually\" id=\"sk-estimator-id-5\" type=\"checkbox\" ><label for=\"sk-estimator-id-5\" class=\"sk-toggleable__label sk-toggleable__label-arrow\">RandomizedSearchCV</label><div class=\"sk-toggleable__content\"><pre>RandomizedSearchCV(cv=2,\n",
       "                   estimator=Pipeline(steps=[(&#x27;scaler&#x27;, StandardScaler()),\n",
       "                                             (&#x27;svc&#x27;, SVC())]),\n",
       "                   n_iter=15, n_jobs=-1,\n",
       "                   param_distributions={&#x27;svc__C&#x27;: [0.01, 10, 50, 100, 200],\n",
       "                                        &#x27;svc__cache_size&#x27;: [200],\n",
       "                                        &#x27;svc__kernel&#x27;: [&#x27;rbf&#x27;]},\n",
       "                   refit=&#x27;accuracy&#x27;,\n",
       "                   scoring={&#x27;accuracy&#x27;: &#x27;accuracy&#x27;,\n",
       "                            &#x27;balanced_accuracy&#x27;: &#x27;balanced_accuracy&#x27;,\n",
       "                            &#x27;f1&#x27;: &#x27;f1_macro&#x27;},\n",
       "                   verbose=10)</pre></div></div></div><div class=\"sk-parallel\"><div class=\"sk-parallel-item\"><div class=\"sk-item\"><div class=\"sk-label-container\"><div class=\"sk-label sk-toggleable\"><input class=\"sk-toggleable__control sk-hidden--visually\" id=\"sk-estimator-id-6\" type=\"checkbox\" ><label for=\"sk-estimator-id-6\" class=\"sk-toggleable__label sk-toggleable__label-arrow\">estimator: Pipeline</label><div class=\"sk-toggleable__content\"><pre>Pipeline(steps=[(&#x27;scaler&#x27;, StandardScaler()), (&#x27;svc&#x27;, SVC())])</pre></div></div></div><div class=\"sk-serial\"><div class=\"sk-item\"><div class=\"sk-serial\"><div class=\"sk-item\"><div class=\"sk-estimator sk-toggleable\"><input class=\"sk-toggleable__control sk-hidden--visually\" id=\"sk-estimator-id-7\" type=\"checkbox\" ><label for=\"sk-estimator-id-7\" class=\"sk-toggleable__label sk-toggleable__label-arrow\">StandardScaler</label><div class=\"sk-toggleable__content\"><pre>StandardScaler()</pre></div></div></div><div class=\"sk-item\"><div class=\"sk-estimator sk-toggleable\"><input class=\"sk-toggleable__control sk-hidden--visually\" id=\"sk-estimator-id-8\" type=\"checkbox\" ><label for=\"sk-estimator-id-8\" class=\"sk-toggleable__label sk-toggleable__label-arrow\">SVC</label><div class=\"sk-toggleable__content\"><pre>SVC()</pre></div></div></div></div></div></div></div></div></div></div></div></div>"
      ],
      "text/plain": [
       "RandomizedSearchCV(cv=2,\n",
       "                   estimator=Pipeline(steps=[('scaler', StandardScaler()),\n",
       "                                             ('svc', SVC())]),\n",
       "                   n_iter=15, n_jobs=-1,\n",
       "                   param_distributions={'svc__C': [0.01, 10, 50, 100, 200],\n",
       "                                        'svc__cache_size': [200],\n",
       "                                        'svc__kernel': ['rbf']},\n",
       "                   refit='accuracy',\n",
       "                   scoring={'accuracy': 'accuracy',\n",
       "                            'balanced_accuracy': 'balanced_accuracy',\n",
       "                            'f1': 'f1_macro'},\n",
       "                   verbose=10)"
      ]
     },
     "execution_count": 9,
     "metadata": {},
     "output_type": "execute_result"
    }
   ],
   "source": [
    "SVM = Pipeline([\n",
    "    ('scaler', StandardScaler()),\n",
    "    ('svc', SVC())])\n",
    "\n",
    "parameters = {\n",
    "    \"svc__C\":[0.01,10,50,100,200],\n",
    "    # \"svc__degree\":[3,5,7],\n",
    "    \"svc__kernel\": ['rbf'],\n",
    "    # \"svc__gamma\" : ['scale','auto'],\n",
    "    # \"svc__tol\" : [1e-3,1e-4,1e-5],\n",
    "    # \"svc__max_iter\": [500,1000],\n",
    "    # \"svc__max_iter\": [2000],\n",
    "    \"svc__cache_size\": [200],\n",
    "    }\n",
    "\n",
    "\n",
    "# Create Stratified folds\n",
    "# cross_validation = StratifiedKFold(n_splits=2)\n",
    "# cross_validation.get_n_splits(dataset, train_target)\n",
    "\n",
    "# Create the scoring dictionary\n",
    "SCORING = {\n",
    "    \"accuracy\": \"accuracy\",\n",
    "    \"balanced_accuracy\": \"balanced_accuracy\",\n",
    "    \"f1\": \"f1_macro\",\n",
    "}\n",
    "\n",
    "# Create and fit the GridSearchCV for randomtree\n",
    "best_svc = RandomizedSearchCV(\n",
    "    estimator=SVM,\n",
    "    param_distributions=parameters,\n",
    "    n_iter=15,\n",
    "    cv=2,\n",
    "    verbose=10,\n",
    "    scoring=SCORING,\n",
    "    refit=\"accuracy\",\n",
    "    n_jobs=-1,\n",
    ")\n",
    "\n",
    "\n",
    "best_svc.fit(train_data,np.ravel(y_train))"
   ]
  },
  {
   "cell_type": "code",
   "execution_count": 10,
   "id": "0fea8389",
   "metadata": {
    "id": "0fea8389"
   },
   "outputs": [
    {
     "name": "stdout",
     "output_type": "stream",
     "text": [
      "Pipeline(steps=[('scaler', StandardScaler()), ('svc', SVC(C=10))])\n"
     ]
    },
    {
     "data": {
      "text/plain": [
       "0.8640545026974685"
      ]
     },
     "execution_count": 10,
     "metadata": {},
     "output_type": "execute_result"
    }
   ],
   "source": [
    "print(best_svc.best_estimator_)\n",
    "best_svc.score(test_data,np.ravel(y_test))"
   ]
  },
  {
   "cell_type": "code",
   "execution_count": 7,
   "id": "be6c4c59",
   "metadata": {
    "id": "be6c4c59",
    "outputId": "efe2406b-e064-450c-9c05-545a923a2559"
   },
   "outputs": [
    {
     "name": "stdout",
     "output_type": "stream",
     "text": [
      "Fitting 2 folds for each of 4 candidates, totalling 8 fits\n"
     ]
    },
    {
     "name": "stderr",
     "output_type": "stream",
     "text": [
      "/opt/anaconda3/lib/python3.9/site-packages/sklearn/svm/_base.py:301: ConvergenceWarning: Solver terminated early (max_iter=20000).  Consider pre-processing your data with StandardScaler or MinMaxScaler.\n",
      "  warnings.warn(\n",
      "/opt/anaconda3/lib/python3.9/site-packages/sklearn/svm/_base.py:301: ConvergenceWarning: Solver terminated early (max_iter=20000).  Consider pre-processing your data with StandardScaler or MinMaxScaler.\n",
      "  warnings.warn(\n",
      "/opt/anaconda3/lib/python3.9/site-packages/sklearn/svm/_base.py:301: ConvergenceWarning: Solver terminated early (max_iter=20000).  Consider pre-processing your data with StandardScaler or MinMaxScaler.\n",
      "  warnings.warn(\n",
      "/opt/anaconda3/lib/python3.9/site-packages/sklearn/svm/_base.py:301: ConvergenceWarning: Solver terminated early (max_iter=20000).  Consider pre-processing your data with StandardScaler or MinMaxScaler.\n",
      "  warnings.warn(\n",
      "/opt/anaconda3/lib/python3.9/site-packages/sklearn/svm/_base.py:301: ConvergenceWarning: Solver terminated early (max_iter=20000).  Consider pre-processing your data with StandardScaler or MinMaxScaler.\n",
      "  warnings.warn(\n",
      "/opt/anaconda3/lib/python3.9/site-packages/sklearn/svm/_base.py:301: ConvergenceWarning: Solver terminated early (max_iter=20000).  Consider pre-processing your data with StandardScaler or MinMaxScaler.\n",
      "  warnings.warn(\n",
      "/opt/anaconda3/lib/python3.9/site-packages/sklearn/svm/_base.py:301: ConvergenceWarning: Solver terminated early (max_iter=20000).  Consider pre-processing your data with StandardScaler or MinMaxScaler.\n",
      "  warnings.warn(\n",
      "/opt/anaconda3/lib/python3.9/site-packages/sklearn/svm/_base.py:301: ConvergenceWarning: Solver terminated early (max_iter=20000).  Consider pre-processing your data with StandardScaler or MinMaxScaler.\n",
      "  warnings.warn(\n",
      "/opt/anaconda3/lib/python3.9/site-packages/sklearn/svm/_base.py:301: ConvergenceWarning: Solver terminated early (max_iter=20000).  Consider pre-processing your data with StandardScaler or MinMaxScaler.\n",
      "  warnings.warn(\n"
     ]
    },
    {
     "data": {
      "text/html": [
       "<style>#sk-container-id-1 {color: black;background-color: white;}#sk-container-id-1 pre{padding: 0;}#sk-container-id-1 div.sk-toggleable {background-color: white;}#sk-container-id-1 label.sk-toggleable__label {cursor: pointer;display: block;width: 100%;margin-bottom: 0;padding: 0.3em;box-sizing: border-box;text-align: center;}#sk-container-id-1 label.sk-toggleable__label-arrow:before {content: \"▸\";float: left;margin-right: 0.25em;color: #696969;}#sk-container-id-1 label.sk-toggleable__label-arrow:hover:before {color: black;}#sk-container-id-1 div.sk-estimator:hover label.sk-toggleable__label-arrow:before {color: black;}#sk-container-id-1 div.sk-toggleable__content {max-height: 0;max-width: 0;overflow: hidden;text-align: left;background-color: #f0f8ff;}#sk-container-id-1 div.sk-toggleable__content pre {margin: 0.2em;color: black;border-radius: 0.25em;background-color: #f0f8ff;}#sk-container-id-1 input.sk-toggleable__control:checked~div.sk-toggleable__content {max-height: 200px;max-width: 100%;overflow: auto;}#sk-container-id-1 input.sk-toggleable__control:checked~label.sk-toggleable__label-arrow:before {content: \"▾\";}#sk-container-id-1 div.sk-estimator input.sk-toggleable__control:checked~label.sk-toggleable__label {background-color: #d4ebff;}#sk-container-id-1 div.sk-label input.sk-toggleable__control:checked~label.sk-toggleable__label {background-color: #d4ebff;}#sk-container-id-1 input.sk-hidden--visually {border: 0;clip: rect(1px 1px 1px 1px);clip: rect(1px, 1px, 1px, 1px);height: 1px;margin: -1px;overflow: hidden;padding: 0;position: absolute;width: 1px;}#sk-container-id-1 div.sk-estimator {font-family: monospace;background-color: #f0f8ff;border: 1px dotted black;border-radius: 0.25em;box-sizing: border-box;margin-bottom: 0.5em;}#sk-container-id-1 div.sk-estimator:hover {background-color: #d4ebff;}#sk-container-id-1 div.sk-parallel-item::after {content: \"\";width: 100%;border-bottom: 1px solid gray;flex-grow: 1;}#sk-container-id-1 div.sk-label:hover label.sk-toggleable__label {background-color: #d4ebff;}#sk-container-id-1 div.sk-serial::before {content: \"\";position: absolute;border-left: 1px solid gray;box-sizing: border-box;top: 0;bottom: 0;left: 50%;z-index: 0;}#sk-container-id-1 div.sk-serial {display: flex;flex-direction: column;align-items: center;background-color: white;padding-right: 0.2em;padding-left: 0.2em;position: relative;}#sk-container-id-1 div.sk-item {position: relative;z-index: 1;}#sk-container-id-1 div.sk-parallel {display: flex;align-items: stretch;justify-content: center;background-color: white;position: relative;}#sk-container-id-1 div.sk-item::before, #sk-container-id-1 div.sk-parallel-item::before {content: \"\";position: absolute;border-left: 1px solid gray;box-sizing: border-box;top: 0;bottom: 0;left: 50%;z-index: -1;}#sk-container-id-1 div.sk-parallel-item {display: flex;flex-direction: column;z-index: 1;position: relative;background-color: white;}#sk-container-id-1 div.sk-parallel-item:first-child::after {align-self: flex-end;width: 50%;}#sk-container-id-1 div.sk-parallel-item:last-child::after {align-self: flex-start;width: 50%;}#sk-container-id-1 div.sk-parallel-item:only-child::after {width: 0;}#sk-container-id-1 div.sk-dashed-wrapped {border: 1px dashed gray;margin: 0 0.4em 0.5em 0.4em;box-sizing: border-box;padding-bottom: 0.4em;background-color: white;}#sk-container-id-1 div.sk-label label {font-family: monospace;font-weight: bold;display: inline-block;line-height: 1.2em;}#sk-container-id-1 div.sk-label-container {text-align: center;}#sk-container-id-1 div.sk-container {/* jupyter's `normalize.less` sets `[hidden] { display: none; }` but bootstrap.min.css set `[hidden] { display: none !important; }` so we also need the `!important` here to be able to override the default hidden behavior on the sphinx rendered scikit-learn.org. See: https://github.com/scikit-learn/scikit-learn/issues/21755 */display: inline-block !important;position: relative;}#sk-container-id-1 div.sk-text-repr-fallback {display: none;}</style><div id=\"sk-container-id-1\" class=\"sk-top-container\"><div class=\"sk-text-repr-fallback\"><pre>GridSearchCV(cv=2,\n",
       "             estimator=Pipeline(steps=[(&#x27;scaler&#x27;, StandardScaler()),\n",
       "                                       (&#x27;svc&#x27;, SVC())]),\n",
       "             n_jobs=-1,\n",
       "             param_grid={&#x27;svc__C&#x27;: [0.5, 5, 10, 15], &#x27;svc__cache_size&#x27;: [200],\n",
       "                         &#x27;svc__kernel&#x27;: [&#x27;rbf&#x27;], &#x27;svc__max_iter&#x27;: [20000]},\n",
       "             refit=&#x27;accuracy&#x27;,\n",
       "             scoring={&#x27;accuracy&#x27;: &#x27;accuracy&#x27;,\n",
       "                      &#x27;balanced_accuracy&#x27;: &#x27;balanced_accuracy&#x27;,\n",
       "                      &#x27;f1&#x27;: &#x27;f1_macro&#x27;},\n",
       "             verbose=10)</pre><b>In a Jupyter environment, please rerun this cell to show the HTML representation or trust the notebook. <br />On GitHub, the HTML representation is unable to render, please try loading this page with nbviewer.org.</b></div><div class=\"sk-container\" hidden><div class=\"sk-item sk-dashed-wrapped\"><div class=\"sk-label-container\"><div class=\"sk-label sk-toggleable\"><input class=\"sk-toggleable__control sk-hidden--visually\" id=\"sk-estimator-id-1\" type=\"checkbox\" ><label for=\"sk-estimator-id-1\" class=\"sk-toggleable__label sk-toggleable__label-arrow\">GridSearchCV</label><div class=\"sk-toggleable__content\"><pre>GridSearchCV(cv=2,\n",
       "             estimator=Pipeline(steps=[(&#x27;scaler&#x27;, StandardScaler()),\n",
       "                                       (&#x27;svc&#x27;, SVC())]),\n",
       "             n_jobs=-1,\n",
       "             param_grid={&#x27;svc__C&#x27;: [0.5, 5, 10, 15], &#x27;svc__cache_size&#x27;: [200],\n",
       "                         &#x27;svc__kernel&#x27;: [&#x27;rbf&#x27;], &#x27;svc__max_iter&#x27;: [20000]},\n",
       "             refit=&#x27;accuracy&#x27;,\n",
       "             scoring={&#x27;accuracy&#x27;: &#x27;accuracy&#x27;,\n",
       "                      &#x27;balanced_accuracy&#x27;: &#x27;balanced_accuracy&#x27;,\n",
       "                      &#x27;f1&#x27;: &#x27;f1_macro&#x27;},\n",
       "             verbose=10)</pre></div></div></div><div class=\"sk-parallel\"><div class=\"sk-parallel-item\"><div class=\"sk-item\"><div class=\"sk-label-container\"><div class=\"sk-label sk-toggleable\"><input class=\"sk-toggleable__control sk-hidden--visually\" id=\"sk-estimator-id-2\" type=\"checkbox\" ><label for=\"sk-estimator-id-2\" class=\"sk-toggleable__label sk-toggleable__label-arrow\">estimator: Pipeline</label><div class=\"sk-toggleable__content\"><pre>Pipeline(steps=[(&#x27;scaler&#x27;, StandardScaler()), (&#x27;svc&#x27;, SVC())])</pre></div></div></div><div class=\"sk-serial\"><div class=\"sk-item\"><div class=\"sk-serial\"><div class=\"sk-item\"><div class=\"sk-estimator sk-toggleable\"><input class=\"sk-toggleable__control sk-hidden--visually\" id=\"sk-estimator-id-3\" type=\"checkbox\" ><label for=\"sk-estimator-id-3\" class=\"sk-toggleable__label sk-toggleable__label-arrow\">StandardScaler</label><div class=\"sk-toggleable__content\"><pre>StandardScaler()</pre></div></div></div><div class=\"sk-item\"><div class=\"sk-estimator sk-toggleable\"><input class=\"sk-toggleable__control sk-hidden--visually\" id=\"sk-estimator-id-4\" type=\"checkbox\" ><label for=\"sk-estimator-id-4\" class=\"sk-toggleable__label sk-toggleable__label-arrow\">SVC</label><div class=\"sk-toggleable__content\"><pre>SVC()</pre></div></div></div></div></div></div></div></div></div></div></div></div>"
      ],
      "text/plain": [
       "GridSearchCV(cv=2,\n",
       "             estimator=Pipeline(steps=[('scaler', StandardScaler()),\n",
       "                                       ('svc', SVC())]),\n",
       "             n_jobs=-1,\n",
       "             param_grid={'svc__C': [0.5, 5, 10, 15], 'svc__cache_size': [200],\n",
       "                         'svc__kernel': ['rbf'], 'svc__max_iter': [20000]},\n",
       "             refit='accuracy',\n",
       "             scoring={'accuracy': 'accuracy',\n",
       "                      'balanced_accuracy': 'balanced_accuracy',\n",
       "                      'f1': 'f1_macro'},\n",
       "             verbose=10)"
      ]
     },
     "execution_count": 7,
     "metadata": {},
     "output_type": "execute_result"
    }
   ],
   "source": [
    "SVM = Pipeline([\n",
    "    ('scaler', StandardScaler()),\n",
    "    ('svc', SVC())])\n",
    "\n",
    "parameters = {\n",
    "    \"svc__C\":[0.5,5,10,15],\n",
    "    # \"svc__degree\":[3,5,7],\n",
    "    \"svc__kernel\": ['rbf'],\n",
    "    # \"svc__gamma\" : ['scale','auto'],\n",
    "    # \"svc__tol\" : [1e-3,1e-4,1e-5],\n",
    "    # \"svc__max_iter\": [500,1000],\n",
    "    \"svc__max_iter\": [20000],\n",
    "    \"svc__cache_size\": [200],\n",
    "    }\n",
    "\n",
    "# Create the scoring dictionary\n",
    "SCORING = {\n",
    "    \"accuracy\": \"accuracy\",\n",
    "    \"balanced_accuracy\": \"balanced_accuracy\",\n",
    "    \"f1\": \"f1_macro\",\n",
    "}\n",
    "\n",
    "# Create and fit the GridSearchCV for randomtree\n",
    "best_svc = GridSearchCV(\n",
    "    estimator=SVM,\n",
    "    param_grid=parameters,\n",
    "    cv=2,\n",
    "    verbose=10,\n",
    "    scoring=SCORING,\n",
    "    refit=\"accuracy\",\n",
    "    n_jobs=-1,\n",
    ")\n",
    "\n",
    "\n",
    "best_svc.fit(train_data,np.ravel(y_train))"
   ]
  },
  {
   "cell_type": "code",
   "execution_count": 8,
   "id": "0c70c6de",
   "metadata": {
    "id": "0c70c6de",
    "outputId": "626162b3-bf99-4ced-c715-e39c14df893a"
   },
   "outputs": [
    {
     "name": "stdout",
     "output_type": "stream",
     "text": [
      "Pipeline(steps=[('scaler', StandardScaler()),\n",
      "                ('svc', SVC(C=10, max_iter=20000))])\n"
     ]
    },
    {
     "data": {
      "text/plain": [
       "0.812595103057131"
      ]
     },
     "execution_count": 8,
     "metadata": {},
     "output_type": "execute_result"
    }
   ],
   "source": [
    "print(best_svc.best_estimator_)\n",
    "best_svc.score(test_data,np.ravel(y_test))"
   ]
  },
  {
   "cell_type": "code",
   "execution_count": 10,
   "id": "e17eabef",
   "metadata": {
    "id": "e17eabef",
    "outputId": "1bc31063-cd6c-40a0-af66-b7ec0b903af7"
   },
   "outputs": [
    {
     "name": "stdout",
     "output_type": "stream",
     "text": [
      "Fitting 2 folds for each of 18 candidates, totalling 36 fits\n"
     ]
    },
    {
     "name": "stderr",
     "output_type": "stream",
     "text": [
      "/opt/anaconda3/lib/python3.9/site-packages/sklearn/model_selection/_search.py:306: UserWarning: The total space of parameters 18 is smaller than n_iter=20. Running 18 iterations. For exhaustive searches, use GridSearchCV.\n",
      "  warnings.warn(\n",
      "/opt/anaconda3/lib/python3.9/site-packages/sklearn/svm/_base.py:301: ConvergenceWarning: Solver terminated early (max_iter=2000).  Consider pre-processing your data with StandardScaler or MinMaxScaler.\n",
      "  warnings.warn(\n",
      "/opt/anaconda3/lib/python3.9/site-packages/sklearn/svm/_base.py:301: ConvergenceWarning: Solver terminated early (max_iter=2000).  Consider pre-processing your data with StandardScaler or MinMaxScaler.\n",
      "  warnings.warn(\n",
      "/opt/anaconda3/lib/python3.9/site-packages/sklearn/svm/_base.py:301: ConvergenceWarning: Solver terminated early (max_iter=2000).  Consider pre-processing your data with StandardScaler or MinMaxScaler.\n",
      "  warnings.warn(\n",
      "/opt/anaconda3/lib/python3.9/site-packages/sklearn/svm/_base.py:301: ConvergenceWarning: Solver terminated early (max_iter=2000).  Consider pre-processing your data with StandardScaler or MinMaxScaler.\n",
      "  warnings.warn(\n",
      "/opt/anaconda3/lib/python3.9/site-packages/sklearn/svm/_base.py:301: ConvergenceWarning: Solver terminated early (max_iter=2000).  Consider pre-processing your data with StandardScaler or MinMaxScaler.\n",
      "  warnings.warn(\n",
      "/opt/anaconda3/lib/python3.9/site-packages/sklearn/svm/_base.py:301: ConvergenceWarning: Solver terminated early (max_iter=2000).  Consider pre-processing your data with StandardScaler or MinMaxScaler.\n",
      "  warnings.warn(\n",
      "/opt/anaconda3/lib/python3.9/site-packages/sklearn/svm/_base.py:301: ConvergenceWarning: Solver terminated early (max_iter=2000).  Consider pre-processing your data with StandardScaler or MinMaxScaler.\n",
      "  warnings.warn(\n",
      "/opt/anaconda3/lib/python3.9/site-packages/sklearn/svm/_base.py:301: ConvergenceWarning: Solver terminated early (max_iter=2000).  Consider pre-processing your data with StandardScaler or MinMaxScaler.\n",
      "  warnings.warn(\n"
     ]
    },
    {
     "name": "stdout",
     "output_type": "stream",
     "text": [
      "[CV 2/2; 2/18] START svc__C=10, svc__cache_size=2000, svc__degree=3, svc__gamma=scale, svc__kernel=poly, svc__max_iter=2000, svc__tol=0.0001\n",
      "[CV 2/2; 2/18] END svc__C=10, svc__cache_size=2000, svc__degree=3, svc__gamma=scale, svc__kernel=poly, svc__max_iter=2000, svc__tol=0.0001; accuracy: (test=0.264) balanced_accuracy: (test=0.493) f1: (test=0.233) total time=   5.3s\n",
      "[CV 2/2; 4/18] START svc__C=10, svc__cache_size=2000, svc__degree=3, svc__gamma=auto, svc__kernel=poly, svc__max_iter=2000, svc__tol=0.001\n",
      "[CV 2/2; 4/18] END svc__C=10, svc__cache_size=2000, svc__degree=3, svc__gamma=auto, svc__kernel=poly, svc__max_iter=2000, svc__tol=0.001; accuracy: (test=0.264) balanced_accuracy: (test=0.493) f1: (test=0.233) total time=   5.3s\n"
     ]
    },
    {
     "name": "stderr",
     "output_type": "stream",
     "text": [
      "/opt/anaconda3/lib/python3.9/site-packages/joblib/externals/loky/process_executor.py:702: UserWarning: A worker stopped while some jobs were given to the executor. This can be caused by a too short worker timeout or by a memory leak.\n",
      "  warnings.warn(\n"
     ]
    },
    {
     "name": "stdout",
     "output_type": "stream",
     "text": [
      "[CV 2/2; 1/18] START svc__C=10, svc__cache_size=2000, svc__degree=3, svc__gamma=scale, svc__kernel=poly, svc__max_iter=2000, svc__tol=0.001\n",
      "[CV 2/2; 1/18] END svc__C=10, svc__cache_size=2000, svc__degree=3, svc__gamma=scale, svc__kernel=poly, svc__max_iter=2000, svc__tol=0.001; accuracy: (test=0.264) balanced_accuracy: (test=0.493) f1: (test=0.233) total time=   5.3s\n",
      "[CV 1/2; 3/18] START svc__C=10, svc__cache_size=2000, svc__degree=3, svc__gamma=scale, svc__kernel=poly, svc__max_iter=2000, svc__tol=1e-05\n",
      "[CV 1/2; 3/18] END svc__C=10, svc__cache_size=2000, svc__degree=3, svc__gamma=scale, svc__kernel=poly, svc__max_iter=2000, svc__tol=1e-05; accuracy: (test=0.262) balanced_accuracy: (test=0.477) f1: (test=0.237) total time=   5.4s\n",
      "[CV 1/2; 2/18] START svc__C=10, svc__cache_size=2000, svc__degree=3, svc__gamma=scale, svc__kernel=poly, svc__max_iter=2000, svc__tol=0.0001\n",
      "[CV 1/2; 2/18] END svc__C=10, svc__cache_size=2000, svc__degree=3, svc__gamma=scale, svc__kernel=poly, svc__max_iter=2000, svc__tol=0.0001; accuracy: (test=0.262) balanced_accuracy: (test=0.477) f1: (test=0.237) total time=   5.3s\n",
      "[CV 1/2; 4/18] START svc__C=10, svc__cache_size=2000, svc__degree=3, svc__gamma=auto, svc__kernel=poly, svc__max_iter=2000, svc__tol=0.001\n",
      "[CV 1/2; 4/18] END svc__C=10, svc__cache_size=2000, svc__degree=3, svc__gamma=auto, svc__kernel=poly, svc__max_iter=2000, svc__tol=0.001; accuracy: (test=0.262) balanced_accuracy: (test=0.477) f1: (test=0.237) total time=   5.4s\n"
     ]
    },
    {
     "name": "stderr",
     "output_type": "stream",
     "text": [
      "/opt/anaconda3/lib/python3.9/site-packages/sklearn/svm/_base.py:301: ConvergenceWarning: Solver terminated early (max_iter=2000).  Consider pre-processing your data with StandardScaler or MinMaxScaler.\n",
      "  warnings.warn(\n",
      "/opt/anaconda3/lib/python3.9/site-packages/sklearn/svm/_base.py:301: ConvergenceWarning: Solver terminated early (max_iter=2000).  Consider pre-processing your data with StandardScaler or MinMaxScaler.\n",
      "  warnings.warn(\n",
      "/opt/anaconda3/lib/python3.9/site-packages/sklearn/svm/_base.py:301: ConvergenceWarning: Solver terminated early (max_iter=2000).  Consider pre-processing your data with StandardScaler or MinMaxScaler.\n",
      "  warnings.warn(\n",
      "/opt/anaconda3/lib/python3.9/site-packages/sklearn/svm/_base.py:301: ConvergenceWarning: Solver terminated early (max_iter=2000).  Consider pre-processing your data with StandardScaler or MinMaxScaler.\n",
      "  warnings.warn(\n"
     ]
    },
    {
     "name": "stdout",
     "output_type": "stream",
     "text": [
      "[CV 1/2; 1/18] START svc__C=10, svc__cache_size=2000, svc__degree=3, svc__gamma=scale, svc__kernel=poly, svc__max_iter=2000, svc__tol=0.001\n",
      "[CV 1/2; 1/18] END svc__C=10, svc__cache_size=2000, svc__degree=3, svc__gamma=scale, svc__kernel=poly, svc__max_iter=2000, svc__tol=0.001; accuracy: (test=0.262) balanced_accuracy: (test=0.477) f1: (test=0.237) total time=   5.3s\n",
      "[CV 2/2; 3/18] START svc__C=10, svc__cache_size=2000, svc__degree=3, svc__gamma=scale, svc__kernel=poly, svc__max_iter=2000, svc__tol=1e-05\n",
      "[CV 2/2; 3/18] END svc__C=10, svc__cache_size=2000, svc__degree=3, svc__gamma=scale, svc__kernel=poly, svc__max_iter=2000, svc__tol=1e-05; accuracy: (test=0.264) balanced_accuracy: (test=0.493) f1: (test=0.233) total time=   5.3s\n",
      "[CV 1/2; 5/18] START svc__C=10, svc__cache_size=2000, svc__degree=3, svc__gamma=auto, svc__kernel=poly, svc__max_iter=2000, svc__tol=0.0001\n",
      "[CV 1/2; 5/18] END svc__C=10, svc__cache_size=2000, svc__degree=3, svc__gamma=auto, svc__kernel=poly, svc__max_iter=2000, svc__tol=0.0001; accuracy: (test=0.262) balanced_accuracy: (test=0.477) f1: (test=0.237) total time=   5.3s\n"
     ]
    },
    {
     "name": "stderr",
     "output_type": "stream",
     "text": [
      "/opt/anaconda3/lib/python3.9/site-packages/sklearn/svm/_base.py:301: ConvergenceWarning: Solver terminated early (max_iter=2000).  Consider pre-processing your data with StandardScaler or MinMaxScaler.\n",
      "  warnings.warn(\n",
      "/opt/anaconda3/lib/python3.9/site-packages/sklearn/svm/_base.py:301: ConvergenceWarning: Solver terminated early (max_iter=2000).  Consider pre-processing your data with StandardScaler or MinMaxScaler.\n",
      "  warnings.warn(\n",
      "/opt/anaconda3/lib/python3.9/site-packages/sklearn/svm/_base.py:301: ConvergenceWarning: Solver terminated early (max_iter=2000).  Consider pre-processing your data with StandardScaler or MinMaxScaler.\n",
      "  warnings.warn(\n",
      "/opt/anaconda3/lib/python3.9/site-packages/sklearn/svm/_base.py:301: ConvergenceWarning: Solver terminated early (max_iter=2000).  Consider pre-processing your data with StandardScaler or MinMaxScaler.\n",
      "  warnings.warn(\n"
     ]
    },
    {
     "name": "stdout",
     "output_type": "stream",
     "text": [
      "[CV 2/2; 5/18] START svc__C=10, svc__cache_size=2000, svc__degree=3, svc__gamma=auto, svc__kernel=poly, svc__max_iter=2000, svc__tol=0.0001\n",
      "[CV 2/2; 5/18] END svc__C=10, svc__cache_size=2000, svc__degree=3, svc__gamma=auto, svc__kernel=poly, svc__max_iter=2000, svc__tol=0.0001; accuracy: (test=0.264) balanced_accuracy: (test=0.493) f1: (test=0.233) total time=   5.3s\n",
      "[CV 2/2; 7/18] START svc__C=10, svc__cache_size=2000, svc__degree=5, svc__gamma=scale, svc__kernel=poly, svc__max_iter=2000, svc__tol=0.001\n",
      "[CV 2/2; 7/18] END svc__C=10, svc__cache_size=2000, svc__degree=5, svc__gamma=scale, svc__kernel=poly, svc__max_iter=2000, svc__tol=0.001; accuracy: (test=0.247) balanced_accuracy: (test=0.499) f1: (test=0.200) total time=   6.1s\n",
      "[CV 1/2; 6/18] START svc__C=10, svc__cache_size=2000, svc__degree=3, svc__gamma=auto, svc__kernel=poly, svc__max_iter=2000, svc__tol=1e-05\n",
      "[CV 1/2; 6/18] END svc__C=10, svc__cache_size=2000, svc__degree=3, svc__gamma=auto, svc__kernel=poly, svc__max_iter=2000, svc__tol=1e-05; accuracy: (test=0.262) balanced_accuracy: (test=0.477) f1: (test=0.237) total time=   5.3s\n",
      "[CV 2/2; 8/18] START svc__C=10, svc__cache_size=2000, svc__degree=5, svc__gamma=scale, svc__kernel=poly, svc__max_iter=2000, svc__tol=0.0001\n",
      "[CV 2/2; 8/18] END svc__C=10, svc__cache_size=2000, svc__degree=5, svc__gamma=scale, svc__kernel=poly, svc__max_iter=2000, svc__tol=0.0001; accuracy: (test=0.247) balanced_accuracy: (test=0.499) f1: (test=0.200) total time=   6.1s\n"
     ]
    },
    {
     "name": "stderr",
     "output_type": "stream",
     "text": [
      "/opt/anaconda3/lib/python3.9/site-packages/sklearn/svm/_base.py:301: ConvergenceWarning: Solver terminated early (max_iter=2000).  Consider pre-processing your data with StandardScaler or MinMaxScaler.\n",
      "  warnings.warn(\n",
      "/opt/anaconda3/lib/python3.9/site-packages/sklearn/svm/_base.py:301: ConvergenceWarning: Solver terminated early (max_iter=2000).  Consider pre-processing your data with StandardScaler or MinMaxScaler.\n",
      "  warnings.warn(\n",
      "/opt/anaconda3/lib/python3.9/site-packages/sklearn/svm/_base.py:301: ConvergenceWarning: Solver terminated early (max_iter=2000).  Consider pre-processing your data with StandardScaler or MinMaxScaler.\n",
      "  warnings.warn(\n",
      "/opt/anaconda3/lib/python3.9/site-packages/sklearn/svm/_base.py:301: ConvergenceWarning: Solver terminated early (max_iter=2000).  Consider pre-processing your data with StandardScaler or MinMaxScaler.\n",
      "  warnings.warn(\n"
     ]
    },
    {
     "name": "stdout",
     "output_type": "stream",
     "text": [
      "[CV 1/2; 7/18] START svc__C=10, svc__cache_size=2000, svc__degree=5, svc__gamma=scale, svc__kernel=poly, svc__max_iter=2000, svc__tol=0.001\n",
      "[CV 1/2; 7/18] END svc__C=10, svc__cache_size=2000, svc__degree=5, svc__gamma=scale, svc__kernel=poly, svc__max_iter=2000, svc__tol=0.001; accuracy: (test=0.248) balanced_accuracy: (test=0.497) f1: (test=0.204) total time=   5.9s\n",
      "[CV 1/2; 9/18] START svc__C=10, svc__cache_size=2000, svc__degree=5, svc__gamma=scale, svc__kernel=poly, svc__max_iter=2000, svc__tol=1e-05\n",
      "[CV 1/2; 9/18] END svc__C=10, svc__cache_size=2000, svc__degree=5, svc__gamma=scale, svc__kernel=poly, svc__max_iter=2000, svc__tol=1e-05; accuracy: (test=0.248) balanced_accuracy: (test=0.497) f1: (test=0.204) total time=   5.9s\n",
      "[CV 2/2; 6/18] START svc__C=10, svc__cache_size=2000, svc__degree=3, svc__gamma=auto, svc__kernel=poly, svc__max_iter=2000, svc__tol=1e-05\n",
      "[CV 2/2; 6/18] END svc__C=10, svc__cache_size=2000, svc__degree=3, svc__gamma=auto, svc__kernel=poly, svc__max_iter=2000, svc__tol=1e-05; accuracy: (test=0.264) balanced_accuracy: (test=0.493) f1: (test=0.233) total time=   5.3s\n",
      "[CV 1/2; 8/18] START svc__C=10, svc__cache_size=2000, svc__degree=5, svc__gamma=scale, svc__kernel=poly, svc__max_iter=2000, svc__tol=0.0001\n",
      "[CV 1/2; 8/18] END svc__C=10, svc__cache_size=2000, svc__degree=5, svc__gamma=scale, svc__kernel=poly, svc__max_iter=2000, svc__tol=0.0001; accuracy: (test=0.248) balanced_accuracy: (test=0.497) f1: (test=0.204) total time=   5.9s\n",
      "[CV 2/2; 9/18] START svc__C=10, svc__cache_size=2000, svc__degree=5, svc__gamma=scale, svc__kernel=poly, svc__max_iter=2000, svc__tol=1e-05\n",
      "[CV 2/2; 9/18] END svc__C=10, svc__cache_size=2000, svc__degree=5, svc__gamma=scale, svc__kernel=poly, svc__max_iter=2000, svc__tol=1e-05; accuracy: (test=0.247) balanced_accuracy: (test=0.499) f1: (test=0.200) total time=   6.1s\n"
     ]
    },
    {
     "name": "stderr",
     "output_type": "stream",
     "text": [
      "/opt/anaconda3/lib/python3.9/site-packages/sklearn/svm/_base.py:301: ConvergenceWarning: Solver terminated early (max_iter=2000).  Consider pre-processing your data with StandardScaler or MinMaxScaler.\n",
      "  warnings.warn(\n",
      "/opt/anaconda3/lib/python3.9/site-packages/sklearn/svm/_base.py:301: ConvergenceWarning: Solver terminated early (max_iter=2000).  Consider pre-processing your data with StandardScaler or MinMaxScaler.\n",
      "  warnings.warn(\n",
      "/opt/anaconda3/lib/python3.9/site-packages/sklearn/svm/_base.py:301: ConvergenceWarning: Solver terminated early (max_iter=2000).  Consider pre-processing your data with StandardScaler or MinMaxScaler.\n",
      "  warnings.warn(\n",
      "/opt/anaconda3/lib/python3.9/site-packages/sklearn/svm/_base.py:301: ConvergenceWarning: Solver terminated early (max_iter=2000).  Consider pre-processing your data with StandardScaler or MinMaxScaler.\n",
      "  warnings.warn(\n",
      "/opt/anaconda3/lib/python3.9/site-packages/sklearn/svm/_base.py:301: ConvergenceWarning: Solver terminated early (max_iter=2000).  Consider pre-processing your data with StandardScaler or MinMaxScaler.\n",
      "  warnings.warn(\n",
      "/opt/anaconda3/lib/python3.9/site-packages/sklearn/svm/_base.py:301: ConvergenceWarning: Solver terminated early (max_iter=2000).  Consider pre-processing your data with StandardScaler or MinMaxScaler.\n",
      "  warnings.warn(\n",
      "/opt/anaconda3/lib/python3.9/site-packages/sklearn/svm/_base.py:301: ConvergenceWarning: Solver terminated early (max_iter=2000).  Consider pre-processing your data with StandardScaler or MinMaxScaler.\n",
      "  warnings.warn(\n",
      "/opt/anaconda3/lib/python3.9/site-packages/sklearn/svm/_base.py:301: ConvergenceWarning: Solver terminated early (max_iter=2000).  Consider pre-processing your data with StandardScaler or MinMaxScaler.\n",
      "  warnings.warn(\n"
     ]
    },
    {
     "name": "stdout",
     "output_type": "stream",
     "text": [
      "[CV 1/2; 10/18] START svc__C=10, svc__cache_size=2000, svc__degree=5, svc__gamma=auto, svc__kernel=poly, svc__max_iter=2000, svc__tol=0.001\n",
      "[CV 1/2; 10/18] END svc__C=10, svc__cache_size=2000, svc__degree=5, svc__gamma=auto, svc__kernel=poly, svc__max_iter=2000, svc__tol=0.001; accuracy: (test=0.248) balanced_accuracy: (test=0.497) f1: (test=0.204) total time=   5.9s\n",
      "[CV 1/2; 12/18] START svc__C=10, svc__cache_size=2000, svc__degree=5, svc__gamma=auto, svc__kernel=poly, svc__max_iter=2000, svc__tol=1e-05\n",
      "[CV 1/2; 12/18] END svc__C=10, svc__cache_size=2000, svc__degree=5, svc__gamma=auto, svc__kernel=poly, svc__max_iter=2000, svc__tol=1e-05; accuracy: (test=0.248) balanced_accuracy: (test=0.497) f1: (test=0.204) total time=   5.8s\n",
      "[CV 2/2; 13/18] START svc__C=10, svc__cache_size=2000, svc__degree=7, svc__gamma=scale, svc__kernel=poly, svc__max_iter=2000, svc__tol=0.001\n",
      "[CV 2/2; 13/18] END svc__C=10, svc__cache_size=2000, svc__degree=7, svc__gamma=scale, svc__kernel=poly, svc__max_iter=2000, svc__tol=0.001; accuracy: (test=0.247) balanced_accuracy: (test=0.499) f1: (test=0.200) total time=   5.8s\n"
     ]
    },
    {
     "name": "stderr",
     "output_type": "stream",
     "text": [
      "/opt/anaconda3/lib/python3.9/site-packages/sklearn/svm/_base.py:301: ConvergenceWarning: Solver terminated early (max_iter=2000).  Consider pre-processing your data with StandardScaler or MinMaxScaler.\n",
      "  warnings.warn(\n",
      "/opt/anaconda3/lib/python3.9/site-packages/sklearn/svm/_base.py:301: ConvergenceWarning: Solver terminated early (max_iter=2000).  Consider pre-processing your data with StandardScaler or MinMaxScaler.\n",
      "  warnings.warn(\n",
      "/opt/anaconda3/lib/python3.9/site-packages/sklearn/svm/_base.py:301: ConvergenceWarning: Solver terminated early (max_iter=2000).  Consider pre-processing your data with StandardScaler or MinMaxScaler.\n",
      "  warnings.warn(\n",
      "/opt/anaconda3/lib/python3.9/site-packages/sklearn/svm/_base.py:301: ConvergenceWarning: Solver terminated early (max_iter=2000).  Consider pre-processing your data with StandardScaler or MinMaxScaler.\n",
      "  warnings.warn(\n"
     ]
    },
    {
     "name": "stdout",
     "output_type": "stream",
     "text": [
      "[CV 1/2; 11/18] START svc__C=10, svc__cache_size=2000, svc__degree=5, svc__gamma=auto, svc__kernel=poly, svc__max_iter=2000, svc__tol=0.0001\n",
      "[CV 1/2; 11/18] END svc__C=10, svc__cache_size=2000, svc__degree=5, svc__gamma=auto, svc__kernel=poly, svc__max_iter=2000, svc__tol=0.0001; accuracy: (test=0.248) balanced_accuracy: (test=0.497) f1: (test=0.204) total time=   5.9s\n",
      "[CV 1/2; 13/18] START svc__C=10, svc__cache_size=2000, svc__degree=7, svc__gamma=scale, svc__kernel=poly, svc__max_iter=2000, svc__tol=0.001\n",
      "[CV 1/2; 13/18] END svc__C=10, svc__cache_size=2000, svc__degree=7, svc__gamma=scale, svc__kernel=poly, svc__max_iter=2000, svc__tol=0.001; accuracy: (test=0.267) balanced_accuracy: (test=0.493) f1: (test=0.239) total time=   6.0s\n",
      "[CV 1/2; 15/18] START svc__C=10, svc__cache_size=2000, svc__degree=7, svc__gamma=scale, svc__kernel=poly, svc__max_iter=2000, svc__tol=1e-05\n",
      "[CV 1/2; 15/18] END svc__C=10, svc__cache_size=2000, svc__degree=7, svc__gamma=scale, svc__kernel=poly, svc__max_iter=2000, svc__tol=1e-05; accuracy: (test=0.267) balanced_accuracy: (test=0.493) f1: (test=0.239) total time=   6.0s\n",
      "[CV 2/2; 10/18] START svc__C=10, svc__cache_size=2000, svc__degree=5, svc__gamma=auto, svc__kernel=poly, svc__max_iter=2000, svc__tol=0.001\n",
      "[CV 2/2; 10/18] END svc__C=10, svc__cache_size=2000, svc__degree=5, svc__gamma=auto, svc__kernel=poly, svc__max_iter=2000, svc__tol=0.001; accuracy: (test=0.247) balanced_accuracy: (test=0.499) f1: (test=0.200) total time=   6.1s\n",
      "[CV 2/2; 12/18] START svc__C=10, svc__cache_size=2000, svc__degree=5, svc__gamma=auto, svc__kernel=poly, svc__max_iter=2000, svc__tol=1e-05\n",
      "[CV 2/2; 12/18] END svc__C=10, svc__cache_size=2000, svc__degree=5, svc__gamma=auto, svc__kernel=poly, svc__max_iter=2000, svc__tol=1e-05; accuracy: (test=0.247) balanced_accuracy: (test=0.499) f1: (test=0.200) total time=   6.1s\n",
      "[CV 2/2; 14/18] START svc__C=10, svc__cache_size=2000, svc__degree=7, svc__gamma=scale, svc__kernel=poly, svc__max_iter=2000, svc__tol=0.0001\n",
      "[CV 2/2; 14/18] END svc__C=10, svc__cache_size=2000, svc__degree=7, svc__gamma=scale, svc__kernel=poly, svc__max_iter=2000, svc__tol=0.0001; accuracy: (test=0.247) balanced_accuracy: (test=0.499) f1: (test=0.200) total time=   5.8s\n",
      "[CV 2/2; 16/18] START svc__C=10, svc__cache_size=2000, svc__degree=7, svc__gamma=auto, svc__kernel=poly, svc__max_iter=2000, svc__tol=0.001\n",
      "[CV 2/2; 16/18] END svc__C=10, svc__cache_size=2000, svc__degree=7, svc__gamma=auto, svc__kernel=poly, svc__max_iter=2000, svc__tol=0.001; accuracy: (test=0.247) balanced_accuracy: (test=0.499) f1: (test=0.200) total time=   5.9s\n",
      "[CV 2/2; 11/18] START svc__C=10, svc__cache_size=2000, svc__degree=5, svc__gamma=auto, svc__kernel=poly, svc__max_iter=2000, svc__tol=0.0001\n",
      "[CV 2/2; 11/18] END svc__C=10, svc__cache_size=2000, svc__degree=5, svc__gamma=auto, svc__kernel=poly, svc__max_iter=2000, svc__tol=0.0001; accuracy: (test=0.247) balanced_accuracy: (test=0.499) f1: (test=0.200) total time=   6.1s\n",
      "[CV 1/2; 14/18] START svc__C=10, svc__cache_size=2000, svc__degree=7, svc__gamma=scale, svc__kernel=poly, svc__max_iter=2000, svc__tol=0.0001\n",
      "[CV 1/2; 14/18] END svc__C=10, svc__cache_size=2000, svc__degree=7, svc__gamma=scale, svc__kernel=poly, svc__max_iter=2000, svc__tol=0.0001; accuracy: (test=0.267) balanced_accuracy: (test=0.493) f1: (test=0.239) total time=   6.0s\n",
      "[CV 1/2; 16/18] START svc__C=10, svc__cache_size=2000, svc__degree=7, svc__gamma=auto, svc__kernel=poly, svc__max_iter=2000, svc__tol=0.001\n",
      "[CV 1/2; 16/18] END svc__C=10, svc__cache_size=2000, svc__degree=7, svc__gamma=auto, svc__kernel=poly, svc__max_iter=2000, svc__tol=0.001; accuracy: (test=0.267) balanced_accuracy: (test=0.493) f1: (test=0.239) total time=   6.1s\n"
     ]
    },
    {
     "name": "stderr",
     "output_type": "stream",
     "text": [
      "/opt/anaconda3/lib/python3.9/site-packages/sklearn/svm/_base.py:301: ConvergenceWarning: Solver terminated early (max_iter=2000).  Consider pre-processing your data with StandardScaler or MinMaxScaler.\n",
      "  warnings.warn(\n",
      "/opt/anaconda3/lib/python3.9/site-packages/sklearn/svm/_base.py:301: ConvergenceWarning: Solver terminated early (max_iter=2000).  Consider pre-processing your data with StandardScaler or MinMaxScaler.\n",
      "  warnings.warn(\n",
      "/opt/anaconda3/lib/python3.9/site-packages/sklearn/svm/_base.py:301: ConvergenceWarning: Solver terminated early (max_iter=2000).  Consider pre-processing your data with StandardScaler or MinMaxScaler.\n",
      "  warnings.warn(\n",
      "/opt/anaconda3/lib/python3.9/site-packages/sklearn/svm/_base.py:301: ConvergenceWarning: Solver terminated early (max_iter=2000).  Consider pre-processing your data with StandardScaler or MinMaxScaler.\n",
      "  warnings.warn(\n",
      "/opt/anaconda3/lib/python3.9/site-packages/sklearn/svm/_base.py:301: ConvergenceWarning: Solver terminated early (max_iter=2000).  Consider pre-processing your data with StandardScaler or MinMaxScaler.\n",
      "  warnings.warn(\n"
     ]
    },
    {
     "data": {
      "text/html": [
       "<style>#sk-container-id-1 {color: black;background-color: white;}#sk-container-id-1 pre{padding: 0;}#sk-container-id-1 div.sk-toggleable {background-color: white;}#sk-container-id-1 label.sk-toggleable__label {cursor: pointer;display: block;width: 100%;margin-bottom: 0;padding: 0.3em;box-sizing: border-box;text-align: center;}#sk-container-id-1 label.sk-toggleable__label-arrow:before {content: \"▸\";float: left;margin-right: 0.25em;color: #696969;}#sk-container-id-1 label.sk-toggleable__label-arrow:hover:before {color: black;}#sk-container-id-1 div.sk-estimator:hover label.sk-toggleable__label-arrow:before {color: black;}#sk-container-id-1 div.sk-toggleable__content {max-height: 0;max-width: 0;overflow: hidden;text-align: left;background-color: #f0f8ff;}#sk-container-id-1 div.sk-toggleable__content pre {margin: 0.2em;color: black;border-radius: 0.25em;background-color: #f0f8ff;}#sk-container-id-1 input.sk-toggleable__control:checked~div.sk-toggleable__content {max-height: 200px;max-width: 100%;overflow: auto;}#sk-container-id-1 input.sk-toggleable__control:checked~label.sk-toggleable__label-arrow:before {content: \"▾\";}#sk-container-id-1 div.sk-estimator input.sk-toggleable__control:checked~label.sk-toggleable__label {background-color: #d4ebff;}#sk-container-id-1 div.sk-label input.sk-toggleable__control:checked~label.sk-toggleable__label {background-color: #d4ebff;}#sk-container-id-1 input.sk-hidden--visually {border: 0;clip: rect(1px 1px 1px 1px);clip: rect(1px, 1px, 1px, 1px);height: 1px;margin: -1px;overflow: hidden;padding: 0;position: absolute;width: 1px;}#sk-container-id-1 div.sk-estimator {font-family: monospace;background-color: #f0f8ff;border: 1px dotted black;border-radius: 0.25em;box-sizing: border-box;margin-bottom: 0.5em;}#sk-container-id-1 div.sk-estimator:hover {background-color: #d4ebff;}#sk-container-id-1 div.sk-parallel-item::after {content: \"\";width: 100%;border-bottom: 1px solid gray;flex-grow: 1;}#sk-container-id-1 div.sk-label:hover label.sk-toggleable__label {background-color: #d4ebff;}#sk-container-id-1 div.sk-serial::before {content: \"\";position: absolute;border-left: 1px solid gray;box-sizing: border-box;top: 0;bottom: 0;left: 50%;z-index: 0;}#sk-container-id-1 div.sk-serial {display: flex;flex-direction: column;align-items: center;background-color: white;padding-right: 0.2em;padding-left: 0.2em;position: relative;}#sk-container-id-1 div.sk-item {position: relative;z-index: 1;}#sk-container-id-1 div.sk-parallel {display: flex;align-items: stretch;justify-content: center;background-color: white;position: relative;}#sk-container-id-1 div.sk-item::before, #sk-container-id-1 div.sk-parallel-item::before {content: \"\";position: absolute;border-left: 1px solid gray;box-sizing: border-box;top: 0;bottom: 0;left: 50%;z-index: -1;}#sk-container-id-1 div.sk-parallel-item {display: flex;flex-direction: column;z-index: 1;position: relative;background-color: white;}#sk-container-id-1 div.sk-parallel-item:first-child::after {align-self: flex-end;width: 50%;}#sk-container-id-1 div.sk-parallel-item:last-child::after {align-self: flex-start;width: 50%;}#sk-container-id-1 div.sk-parallel-item:only-child::after {width: 0;}#sk-container-id-1 div.sk-dashed-wrapped {border: 1px dashed gray;margin: 0 0.4em 0.5em 0.4em;box-sizing: border-box;padding-bottom: 0.4em;background-color: white;}#sk-container-id-1 div.sk-label label {font-family: monospace;font-weight: bold;display: inline-block;line-height: 1.2em;}#sk-container-id-1 div.sk-label-container {text-align: center;}#sk-container-id-1 div.sk-container {/* jupyter's `normalize.less` sets `[hidden] { display: none; }` but bootstrap.min.css set `[hidden] { display: none !important; }` so we also need the `!important` here to be able to override the default hidden behavior on the sphinx rendered scikit-learn.org. See: https://github.com/scikit-learn/scikit-learn/issues/21755 */display: inline-block !important;position: relative;}#sk-container-id-1 div.sk-text-repr-fallback {display: none;}</style><div id=\"sk-container-id-1\" class=\"sk-top-container\"><div class=\"sk-text-repr-fallback\"><pre>RandomizedSearchCV(cv=2,\n",
       "                   estimator=Pipeline(steps=[(&#x27;scaler&#x27;, StandardScaler()),\n",
       "                                             (&#x27;svc&#x27;, SVC())]),\n",
       "                   n_iter=20, n_jobs=4,\n",
       "                   param_distributions={&#x27;svc__C&#x27;: [10],\n",
       "                                        &#x27;svc__cache_size&#x27;: [2000],\n",
       "                                        &#x27;svc__degree&#x27;: [3, 5, 7],\n",
       "                                        &#x27;svc__gamma&#x27;: [&#x27;scale&#x27;, &#x27;auto&#x27;],\n",
       "                                        &#x27;svc__kernel&#x27;: [&#x27;poly&#x27;],\n",
       "                                        &#x27;svc__max_iter&#x27;: [2000],\n",
       "                                        &#x27;svc__tol&#x27;: [0.001, 0.0001, 1e-05]},\n",
       "                   refit=&#x27;accuracy&#x27;,\n",
       "                   scoring={&#x27;accuracy&#x27;: &#x27;accuracy&#x27;,\n",
       "                            &#x27;balanced_accuracy&#x27;: &#x27;balanced_accuracy&#x27;,\n",
       "                            &#x27;f1&#x27;: &#x27;f1_macro&#x27;},\n",
       "                   verbose=10)</pre><b>In a Jupyter environment, please rerun this cell to show the HTML representation or trust the notebook. <br />On GitHub, the HTML representation is unable to render, please try loading this page with nbviewer.org.</b></div><div class=\"sk-container\" hidden><div class=\"sk-item sk-dashed-wrapped\"><div class=\"sk-label-container\"><div class=\"sk-label sk-toggleable\"><input class=\"sk-toggleable__control sk-hidden--visually\" id=\"sk-estimator-id-1\" type=\"checkbox\" ><label for=\"sk-estimator-id-1\" class=\"sk-toggleable__label sk-toggleable__label-arrow\">RandomizedSearchCV</label><div class=\"sk-toggleable__content\"><pre>RandomizedSearchCV(cv=2,\n",
       "                   estimator=Pipeline(steps=[(&#x27;scaler&#x27;, StandardScaler()),\n",
       "                                             (&#x27;svc&#x27;, SVC())]),\n",
       "                   n_iter=20, n_jobs=4,\n",
       "                   param_distributions={&#x27;svc__C&#x27;: [10],\n",
       "                                        &#x27;svc__cache_size&#x27;: [2000],\n",
       "                                        &#x27;svc__degree&#x27;: [3, 5, 7],\n",
       "                                        &#x27;svc__gamma&#x27;: [&#x27;scale&#x27;, &#x27;auto&#x27;],\n",
       "                                        &#x27;svc__kernel&#x27;: [&#x27;poly&#x27;],\n",
       "                                        &#x27;svc__max_iter&#x27;: [2000],\n",
       "                                        &#x27;svc__tol&#x27;: [0.001, 0.0001, 1e-05]},\n",
       "                   refit=&#x27;accuracy&#x27;,\n",
       "                   scoring={&#x27;accuracy&#x27;: &#x27;accuracy&#x27;,\n",
       "                            &#x27;balanced_accuracy&#x27;: &#x27;balanced_accuracy&#x27;,\n",
       "                            &#x27;f1&#x27;: &#x27;f1_macro&#x27;},\n",
       "                   verbose=10)</pre></div></div></div><div class=\"sk-parallel\"><div class=\"sk-parallel-item\"><div class=\"sk-item\"><div class=\"sk-label-container\"><div class=\"sk-label sk-toggleable\"><input class=\"sk-toggleable__control sk-hidden--visually\" id=\"sk-estimator-id-2\" type=\"checkbox\" ><label for=\"sk-estimator-id-2\" class=\"sk-toggleable__label sk-toggleable__label-arrow\">estimator: Pipeline</label><div class=\"sk-toggleable__content\"><pre>Pipeline(steps=[(&#x27;scaler&#x27;, StandardScaler()), (&#x27;svc&#x27;, SVC())])</pre></div></div></div><div class=\"sk-serial\"><div class=\"sk-item\"><div class=\"sk-serial\"><div class=\"sk-item\"><div class=\"sk-estimator sk-toggleable\"><input class=\"sk-toggleable__control sk-hidden--visually\" id=\"sk-estimator-id-3\" type=\"checkbox\" ><label for=\"sk-estimator-id-3\" class=\"sk-toggleable__label sk-toggleable__label-arrow\">StandardScaler</label><div class=\"sk-toggleable__content\"><pre>StandardScaler()</pre></div></div></div><div class=\"sk-item\"><div class=\"sk-estimator sk-toggleable\"><input class=\"sk-toggleable__control sk-hidden--visually\" id=\"sk-estimator-id-4\" type=\"checkbox\" ><label for=\"sk-estimator-id-4\" class=\"sk-toggleable__label sk-toggleable__label-arrow\">SVC</label><div class=\"sk-toggleable__content\"><pre>SVC()</pre></div></div></div></div></div></div></div></div></div></div></div></div>"
      ],
      "text/plain": [
       "RandomizedSearchCV(cv=2,\n",
       "                   estimator=Pipeline(steps=[('scaler', StandardScaler()),\n",
       "                                             ('svc', SVC())]),\n",
       "                   n_iter=20, n_jobs=4,\n",
       "                   param_distributions={'svc__C': [10],\n",
       "                                        'svc__cache_size': [2000],\n",
       "                                        'svc__degree': [3, 5, 7],\n",
       "                                        'svc__gamma': ['scale', 'auto'],\n",
       "                                        'svc__kernel': ['poly'],\n",
       "                                        'svc__max_iter': [2000],\n",
       "                                        'svc__tol': [0.001, 0.0001, 1e-05]},\n",
       "                   refit='accuracy',\n",
       "                   scoring={'accuracy': 'accuracy',\n",
       "                            'balanced_accuracy': 'balanced_accuracy',\n",
       "                            'f1': 'f1_macro'},\n",
       "                   verbose=10)"
      ]
     },
     "execution_count": 10,
     "metadata": {},
     "output_type": "execute_result"
    }
   ],
   "source": [
    "\n",
    "\n",
    "\n",
    "SVM = Pipeline([\n",
    "    ('scaler', StandardScaler()),\n",
    "    ('svc', SVC())])\n",
    "\n",
    "parameters = {\n",
    "\n",
    "    \"svc__C\":[10],\n",
    "    \"svc__degree\":[3,5,7], #Degree of the polynomial kernel function (‘poly’). Must be non-negative. Ignored by all other kernels.\n",
    "    \"svc__kernel\": ['poly'],\n",
    "    \"svc__gamma\" : ['scale','auto'],\n",
    "    \"svc__tol\" : [1e-3,1e-4,1e-5],\n",
    "    \"svc__max_iter\": [2000],\n",
    "    \"svc__cache_size\": [2000],\n",
    "    }\n",
    "\n",
    "\n",
    "# Create the scoring dictionary\n",
    "SCORING = {\n",
    "    \"accuracy\": \"accuracy\",\n",
    "    \"balanced_accuracy\": \"balanced_accuracy\",\n",
    "    \"f1\": \"f1_macro\",\n",
    "}\n",
    "\n",
    "# Create and fit the GridSearchCV for randomtree\n",
    "best_svc = RandomizedSearchCV(\n",
    "    estimator=SVM,\n",
    "    param_distributions=parameters,\n",
    "    n_iter=20,\n",
    "    cv=2,\n",
    "    verbose=10,\n",
    "    scoring=SCORING,\n",
    "    refit=\"accuracy\",\n",
    "    n_jobs=4,\n",
    ")\n",
    "\n",
    "\n",
    "best_svc.fit(train_data, np.ravel(y_train))"
   ]
  },
  {
   "cell_type": "code",
   "execution_count": 11,
   "id": "affc98d4",
   "metadata": {
    "id": "affc98d4",
    "outputId": "2354598d-0ed7-4488-86bb-24ec207433f3"
   },
   "outputs": [
    {
     "name": "stdout",
     "output_type": "stream",
     "text": [
      "Pipeline(steps=[('scaler', StandardScaler()),\n",
      "                ('svc',\n",
      "                 SVC(C=10, cache_size=2000, kernel='poly', max_iter=2000))])\n"
     ]
    },
    {
     "data": {
      "text/plain": [
       "0.25159081477382766"
      ]
     },
     "execution_count": 11,
     "metadata": {},
     "output_type": "execute_result"
    }
   ],
   "source": [
    "print(best_svc.best_estimator_)\n",
    "best_svc.score(test_data,np.ravel(y_test))"
   ]
  },
  {
   "cell_type": "code",
   "execution_count": null,
   "id": "031ce45d",
   "metadata": {
    "id": "031ce45d"
   },
   "outputs": [],
   "source": []
  }
 ],
 "metadata": {
  "colab": {
   "provenance": []
  },
  "kernelspec": {
   "display_name": "Python 3 (ipykernel)",
   "language": "python",
   "name": "python3"
  },
  "language_info": {
   "codemirror_mode": {
    "name": "ipython",
    "version": 3
   },
   "file_extension": ".py",
   "mimetype": "text/x-python",
   "name": "python",
   "nbconvert_exporter": "python",
   "pygments_lexer": "ipython3",
   "version": "3.11.4"
  }
 },
 "nbformat": 4,
 "nbformat_minor": 5
}
